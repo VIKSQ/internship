{
 "cells": [
  {
   "cell_type": "markdown",
   "id": "fc281b22",
   "metadata": {},
   "source": [
    "# ansno.1"
   ]
  },
  {
   "cell_type": "code",
   "execution_count": 1,
   "id": "0420be40",
   "metadata": {},
   "outputs": [],
   "source": [
    "import regex as re"
   ]
  },
  {
   "cell_type": "code",
   "execution_count": 2,
   "id": "29c8d678",
   "metadata": {},
   "outputs": [
    {
     "name": "stdout",
     "output_type": "stream",
     "text": [
      "Python:Exercises::PHP:exercises:\n"
     ]
    }
   ],
   "source": [
    "sample_text='Python Exercises, PHP exercises.'\n",
    "result=re.sub(\"[\\s.,]\",\":\",sample_text)\n",
    "print(result)"
   ]
  },
  {
   "cell_type": "markdown",
   "id": "1060c1eb",
   "metadata": {},
   "source": [
    "# ansno.2"
   ]
  },
  {
   "cell_type": "code",
   "execution_count": 3,
   "id": "6a6c8eba",
   "metadata": {},
   "outputs": [],
   "source": [
    "import pandas as pd"
   ]
  },
  {
   "cell_type": "code",
   "execution_count": 4,
   "id": "514d9127",
   "metadata": {},
   "outputs": [
    {
     "name": "stdout",
     "output_type": "stream",
     "text": [
      "                  SUMMARY\n",
      "0           hello, world!\n",
      "1              XXXXX test\n",
      "2  123four, five:; six...\n"
     ]
    }
   ],
   "source": [
    "df=pd.DataFrame({'SUMMARY':['hello, world!', 'XXXXX test', '123four, five:; six...']})\n",
    "print(df)"
   ]
  },
  {
   "cell_type": "code",
   "execution_count": 10,
   "id": "ebc749ea",
   "metadata": {},
   "outputs": [
    {
     "name": "stderr",
     "output_type": "stream",
     "text": [
      "C:\\Users\\win10\\AppData\\Local\\Temp\\ipykernel_7580\\2997721274.py:2: FutureWarning: The default value of regex will change from True to False in a future version.\n",
      "  df['SUMMARY'].str.replace(pattern,lambda m:m.group())\n"
     ]
    },
    {
     "data": {
      "text/plain": [
       "0             hello, world!\n",
       "1                XXXXX test\n",
       "2    123four, five:; six...\n",
       "Name: SUMMARY, dtype: object"
      ]
     },
     "execution_count": 10,
     "metadata": {},
     "output_type": "execute_result"
    }
   ],
   "source": [
    "pattern=\"\\s[0-9],;:!.\"\n",
    "df['SUMMARY'].str.replace(pattern,lambda m:m.group())"
   ]
  },
  {
   "cell_type": "markdown",
   "id": "7d78e44e",
   "metadata": {},
   "source": [
    "# ans3"
   ]
  },
  {
   "cell_type": "code",
   "execution_count": 2,
   "id": "f730578a",
   "metadata": {},
   "outputs": [],
   "source": [
    "import regex as re"
   ]
  },
  {
   "cell_type": "code",
   "execution_count": 6,
   "id": "165f66d5",
   "metadata": {},
   "outputs": [],
   "source": [
    "pattern=re.compile('\\w{4}')"
   ]
  },
  {
   "cell_type": "code",
   "execution_count": 7,
   "id": "400ee8ec",
   "metadata": {},
   "outputs": [
    {
     "name": "stdout",
     "output_type": "stream",
     "text": [
      "<regex.Match object; span=(0, 4), match='this'>\n"
     ]
    }
   ],
   "source": [
    "string='this is jupiter book'\n",
    "result=pattern.search(string)\n",
    "print(result)"
   ]
  },
  {
   "cell_type": "markdown",
   "id": "12da4f97",
   "metadata": {},
   "source": [
    "# ans4"
   ]
  },
  {
   "cell_type": "code",
   "execution_count": 9,
   "id": "68288a85",
   "metadata": {},
   "outputs": [],
   "source": [
    "pattern1=re.compile(\"(\\w{3}\\s)(\\w{4}\\s)(\\w{5})\")\n"
   ]
  },
  {
   "cell_type": "code",
   "execution_count": 11,
   "id": "0768adf5",
   "metadata": {},
   "outputs": [
    {
     "name": "stdout",
     "output_type": "stream",
     "text": [
      "<regex.Match object; span=(4, 18), match='her your busin'>\n"
     ]
    }
   ],
   "source": [
    "target_string=\"Whether your business is early in its journey or well on its way to digital transformation\"\n",
    "reslt=pattern1.search(target_string)\n",
    "print(reslt)"
   ]
  },
  {
   "cell_type": "markdown",
   "id": "95f83979",
   "metadata": {},
   "source": [
    "# ans5"
   ]
  },
  {
   "cell_type": "code",
   "execution_count": 6,
   "id": "b65f09fd",
   "metadata": {},
   "outputs": [],
   "source": [
    "sample_text=[\"example (.com)\", \"hr@fliprobo (.com)\", \"github (.com)\", \"Hello (Data Science World)\", \"Data (Scientist)\"]\n",
    "pattern=re.compile(\".\\s()\")\n"
   ]
  },
  {
   "cell_type": "code",
   "execution_count": 5,
   "id": "ddf7aeec",
   "metadata": {},
   "outputs": [
    {
     "ename": "TypeError",
     "evalue": "expected string or buffer",
     "output_type": "error",
     "traceback": [
      "\u001b[1;31m---------------------------------------------------------------------------\u001b[0m",
      "\u001b[1;31mTypeError\u001b[0m                                 Traceback (most recent call last)",
      "Cell \u001b[1;32mIn[5], line 2\u001b[0m\n\u001b[0;32m      1\u001b[0m \u001b[38;5;28;01mfor\u001b[39;00m val \u001b[38;5;129;01min\u001b[39;00m sample_text:\n\u001b[1;32m----> 2\u001b[0m     match\u001b[38;5;241m=\u001b[39m\u001b[43mpattern\u001b[49m\u001b[38;5;241;43m.\u001b[39;49m\u001b[43msearch\u001b[49m\u001b[43m(\u001b[49m\u001b[43msample_text\u001b[49m\u001b[43m)\u001b[49m\n\u001b[0;32m      3\u001b[0m     \u001b[38;5;28;01mif\u001b[39;00m val\u001b[38;5;241m==\u001b[39mmatch:\n\u001b[0;32m      4\u001b[0m         \u001b[38;5;28mprint\u001b[39m(match)\n",
      "\u001b[1;31mTypeError\u001b[0m: expected string or buffer"
     ]
    }
   ],
   "source": [
    "for val in sample_text:\n",
    "    match=pattern.search(sample_text)\n",
    "    if val==match:\n",
    "        print(match)"
   ]
  },
  {
   "cell_type": "markdown",
   "id": "08e50f33",
   "metadata": {},
   "source": [
    "# ans8"
   ]
  },
  {
   "cell_type": "code",
   "execution_count": 9,
   "id": "808278e6",
   "metadata": {},
   "outputs": [
    {
     "name": "stdout",
     "output_type": "stream",
     "text": [
      "RegularExpression IsAn ImportantTopic InPython\n"
     ]
    }
   ],
   "source": [
    "sample=\"RegularExpression1IsAn2ImportantTopic3InPython\"\n",
    "result=re.sub('\\d+',\" \",sample)\n",
    "print(result)"
   ]
  },
  {
   "cell_type": "markdown",
   "id": "85ffd9c5",
   "metadata": {},
   "source": [
    "# ans11"
   ]
  },
  {
   "cell_type": "code",
   "execution_count": 5,
   "id": "b14c9f42",
   "metadata": {},
   "outputs": [],
   "source": [
    "def string(text):\n",
    "    pattern=\"[A-Za-z0-9_]\"\n",
    "    if re.search(pattern,text):\n",
    "        print('got a match')\n",
    "    else:\n",
    "        print('not a match')\n",
    "    "
   ]
  },
  {
   "cell_type": "code",
   "execution_count": 6,
   "id": "c195b4a9",
   "metadata": {},
   "outputs": [
    {
     "name": "stdout",
     "output_type": "stream",
     "text": [
      "got a match\n"
     ]
    }
   ],
   "source": [
    "text='it is a Jupitarnotebook12_'\n",
    "string(text)"
   ]
  },
  {
   "cell_type": "markdown",
   "id": "b7087310",
   "metadata": {},
   "source": [
    "# ans12"
   ]
  },
  {
   "cell_type": "code",
   "execution_count": 19,
   "id": "f190642f",
   "metadata": {},
   "outputs": [],
   "source": [
    "def words(string):\n",
    "    pattern1=\"\\d\\w\"\n",
    "    reslt=re.match(pattern1,string)\n",
    "    if reslt==string:\n",
    "        print('got a match :',reslt)\n",
    "    else:\n",
    "        print('not found a match')"
   ]
  },
  {
   "cell_type": "code",
   "execution_count": 20,
   "id": "fe48fbc0",
   "metadata": {},
   "outputs": [
    {
     "name": "stdout",
     "output_type": "stream",
     "text": [
      "not found a match\n"
     ]
    }
   ],
   "source": [
    "string=\"2packets of chips in my bag\"\n",
    "words(string)"
   ]
  },
  {
   "cell_type": "markdown",
   "id": "d7a85b63",
   "metadata": {},
   "source": [
    "# ans14"
   ]
  },
  {
   "cell_type": "code",
   "execution_count": 13,
   "id": "7e153493",
   "metadata": {},
   "outputs": [],
   "source": [
    "text=\"On August 15th 1947 that India was declared independent from British colonialism, and the reins of control were handed over to the leaders of the Country.\""
   ]
  },
  {
   "cell_type": "code",
   "execution_count": 15,
   "id": "155d8689",
   "metadata": {},
   "outputs": [
    {
     "name": "stdout",
     "output_type": "stream",
     "text": [
      "<regex.Match object; span=(3, 19), match='August 15th 1947'>\n",
      "August 15th 1947\n"
     ]
    }
   ],
   "source": [
    "pattern2=r'\\b([A-Za-z]+) \\d{2}(?:th)? \\d{4}\\b'\n",
    "reslt=re.search(pattern2,text)\n",
    "print(reslt)\n",
    "print(reslt.group())"
   ]
  },
  {
   "cell_type": "markdown",
   "id": "89e9a9ac",
   "metadata": {},
   "source": [
    "# ans16"
   ]
  },
  {
   "cell_type": "code",
   "execution_count": 7,
   "id": "37ee8733",
   "metadata": {},
   "outputs": [],
   "source": [
    "import regex as  re"
   ]
  },
  {
   "cell_type": "code",
   "execution_count": 10,
   "id": "217f9168",
   "metadata": {},
   "outputs": [
    {
     "name": "stdout",
     "output_type": "stream",
     "text": [
      "found match within span length:\n",
      " <regex.Match object; span=(16, 19), match='fox'>\n",
      "fox\n",
      "(16, 19)\n"
     ]
    }
   ],
   "source": [
    "text=\"The quick brown fox jumps over the lazy dog.\"\n",
    "pattern='fox'\n",
    "reslt=re.search(pattern,text)\n",
    "print('found match within span length:'\"\\n\",reslt)\n",
    "print(reslt.group())\n",
    "print(reslt.span())"
   ]
  },
  {
   "cell_type": "markdown",
   "id": "c82b182d",
   "metadata": {},
   "source": [
    "# ans17"
   ]
  },
  {
   "cell_type": "code",
   "execution_count": 12,
   "id": "689a5748",
   "metadata": {},
   "outputs": [
    {
     "name": "stdout",
     "output_type": "stream",
     "text": [
      "['exercises', 'exercises', 'exercises']\n"
     ]
    }
   ],
   "source": [
    "text_file='Python exercises, PHP exercises, C# exercises'\n",
    "pattern=\"exercises\"\n",
    "match=re.findall(pattern,text_file)\n",
    "print(match)"
   ]
  },
  {
   "cell_type": "markdown",
   "id": "a3a3814e",
   "metadata": {},
   "source": [
    "# ans18"
   ]
  },
  {
   "cell_type": "code",
   "execution_count": 17,
   "id": "f26d1129",
   "metadata": {},
   "outputs": [
    {
     "name": "stdout",
     "output_type": "stream",
     "text": [
      "substring match: quick\n",
      "position of substring: (4, 9)\n"
     ]
    }
   ],
   "source": [
    "str=\"the quick brown fox jump ovr the lazy dog\"\n",
    "pattern3='quick'\n",
    "matching=re.search(pattern3,str)\n",
    "print('substring match:',matching.group())\n",
    "print('position of substring:',matching.span())"
   ]
  },
  {
   "cell_type": "markdown",
   "id": "cde48734",
   "metadata": {},
   "source": [
    "# ans20"
   ]
  },
  {
   "cell_type": "code",
   "execution_count": 2,
   "id": "2ad9dc3a",
   "metadata": {},
   "outputs": [
    {
     "name": "stdout",
     "output_type": "stream",
     "text": [
      "['01.12', '32.23', '31565', '27.09', '70.25']\n"
     ]
    }
   ],
   "source": [
    "pattern=re.compile(\"\\d{2}.\\d{2}\")\n",
    "stri_=\"01.120132.23 2.3156527.09670.25\"\n",
    "result=pattern.findall(stri_)\n",
    "print(result)"
   ]
  },
  {
   "cell_type": "markdown",
   "id": "fd9588f3",
   "metadata": {},
   "source": [
    "# ans22"
   ]
  },
  {
   "cell_type": "code",
   "execution_count": 3,
   "id": "91ac4f3b",
   "metadata": {},
   "outputs": [
    {
     "name": "stdout",
     "output_type": "stream",
     "text": [
      "['947', '896', '926', '524', '734', '950', '642']\n",
      "largest numeric value\n",
      " 950\n"
     ]
    }
   ],
   "source": [
    "st=\"marks in each semester are: 947, 896, 926, 524, 734, 950, 642\"\n",
    "res=re.findall('\\d+',st)\n",
    "print(res)\n",
    "print('largest numeric value\\n',max(res))"
   ]
  },
  {
   "cell_type": "markdown",
   "id": "f75b92ef",
   "metadata": {},
   "source": [
    "# ans24"
   ]
  },
  {
   "cell_type": "code",
   "execution_count": 7,
   "id": "1ce26143",
   "metadata": {},
   "outputs": [
    {
     "name": "stdout",
     "output_type": "stream",
     "text": [
      "words uppercase followed by lower case\n",
      " ['Regular', 'Expression', 'Is', 'An', 'Important', 'Topic', 'In', 'Python']\n"
     ]
    }
   ],
   "source": [
    "string='RegularExpressionIsAnImportantTopicInPython'\n",
    "pattern=\"[A-Z][a-z]+\"\n",
    "match=re.findall(pattern,string)\n",
    "print(\"words uppercase followed by lower case\\n\",match)"
   ]
  },
  {
   "cell_type": "markdown",
   "id": "e5108178",
   "metadata": {},
   "source": [
    "# ans26"
   ]
  },
  {
   "cell_type": "code",
   "execution_count": 10,
   "id": "9588cb90",
   "metadata": {},
   "outputs": [],
   "source": [
    "def check_string(text):\n",
    "    pattern=\"[A-Z]+[0-9]+$\"\n",
    "    res=re.search(pattern,text)\n",
    "    if res:\n",
    "        print('found string end with alphanumeric\\n',res.group())\n",
    "        print(res.span())\n",
    "    else:\n",
    "        print('doesnot found string end with alphanumeric ')"
   ]
  },
  {
   "cell_type": "code",
   "execution_count": 11,
   "id": "89e1dc84",
   "metadata": {},
   "outputs": [
    {
     "name": "stdout",
     "output_type": "stream",
     "text": [
      "found string end with alphanumeric\n",
      " ABC146\n",
      "(15, 21)\n"
     ]
    }
   ],
   "source": [
    "check_string(\"my password is ABC146\")"
   ]
  },
  {
   "cell_type": "markdown",
   "id": "a0704428",
   "metadata": {},
   "source": [
    "# ans27"
   ]
  },
  {
   "cell_type": "code",
   "execution_count": 6,
   "id": "764eaf55",
   "metadata": {},
   "outputs": [
    {
     "name": "stdout",
     "output_type": "stream",
     "text": [
      "matching content:\n",
      " ['#Doltiwal', '#xyzabc', '#Demonetization']\n"
     ]
    }
   ],
   "source": [
    "sample='RT @kapil_kausik: #Doltiwal I mean #xyzabc is \"hurt\" by #Demonetization as the same has rendered USELESS <ed><U+00A0><U+00BD><ed><U+00B1><U+0089> \"acquired funds\" No wo'\n",
    "pattern=\"(#[A-z]+)\"\n",
    "target=re.findall(pattern,sample)\n",
    "print('matching content:\\n',target)"
   ]
  },
  {
   "cell_type": "markdown",
   "id": "b8b394d0",
   "metadata": {},
   "source": [
    "# ans28"
   ]
  },
  {
   "cell_type": "code",
   "execution_count": 5,
   "id": "57cd0bc1",
   "metadata": {},
   "outputs": [
    {
     "name": "stdout",
     "output_type": "stream",
     "text": [
      "after removing symbol:\n",
      " \"@Jags123456 Bharat band on 28??<ed><ed>Those who  are protesting #demonetization  are all different party leaders\n"
     ]
    }
   ],
   "source": [
    "text_file='\"@Jags123456 Bharat band on 28??<ed><U+00A0><U+00BD><ed><U+00B8><U+0082>Those who  are protesting #demonetization  are all different party leaders'\n",
    "pattern6=\"<U.\\w{4}>\"\n",
    "result=re.sub(pattern6,'',text_file)\n",
    "print('after removing symbol:\\n',result)\n"
   ]
  },
  {
   "cell_type": "markdown",
   "id": "c1b40571",
   "metadata": {},
   "source": [
    "# ans29"
   ]
  },
  {
   "cell_type": "code",
   "execution_count": 8,
   "id": "aa105eef",
   "metadata": {},
   "outputs": [
    {
     "name": "stdout",
     "output_type": "stream",
     "text": [
      "extract dates\n",
      " [('12-09-1992',), ('15-12-1999',)]\n"
     ]
    }
   ],
   "source": [
    "sample_text='Ron was born on 12-09-1992 and he was admitted to school 15-12-1999.'\n",
    "pattern='(\\d{2}-\\d{2}-\\d{4})+'\n",
    "match=re.findall(pattern,sample_text)\n",
    "print('extract dates\\n',match)"
   ]
  },
  {
   "cell_type": "markdown",
   "id": "41211173",
   "metadata": {},
   "source": [
    "# ans13"
   ]
  },
  {
   "cell_type": "code",
   "execution_count": 15,
   "id": "07a12f38",
   "metadata": {},
   "outputs": [
    {
     "name": "stdout",
     "output_type": "stream",
     "text": [
      "removal of leading zeros:\n",
      " 345.4.233.455\n"
     ]
    }
   ],
   "source": [
    "ip_address=\"345.04.233.0455\"\n",
    "pattern=\"\\.[0]*\"\n",
    "result=re.sub(pattern,'.',ip_address)\n",
    "print('removal of leading zeros:\\n',result)"
   ]
  },
  {
   "cell_type": "markdown",
   "id": "8e0ccdfa",
   "metadata": {},
   "source": [
    "# ans21"
   ]
  },
  {
   "cell_type": "code",
   "execution_count": 20,
   "id": "ad26a82f",
   "metadata": {},
   "outputs": [
    {
     "name": "stdout",
     "output_type": "stream",
     "text": [
      "seprate number from string;\n",
      " 500\n",
      "position of number;\n",
      " (7, 10)\n"
     ]
    }
   ],
   "source": [
    "string=\"i have 500 rupees in my wallet\"\n",
    "pattern=\"\\d+\"\n",
    "result1=re.search(pattern,string)\n",
    "print(\"seprate number from string;\\n\",result1.group())\n",
    "print('position of number;\\n',result1.span())"
   ]
  },
  {
   "cell_type": "code",
   "execution_count": null,
   "id": "791c1150",
   "metadata": {},
   "outputs": [],
   "source": []
  }
 ],
 "metadata": {
  "kernelspec": {
   "display_name": "Python 3 (ipykernel)",
   "language": "python",
   "name": "python3"
  },
  "language_info": {
   "codemirror_mode": {
    "name": "ipython",
    "version": 3
   },
   "file_extension": ".py",
   "mimetype": "text/x-python",
   "name": "python",
   "nbconvert_exporter": "python",
   "pygments_lexer": "ipython3",
   "version": "3.10.9"
  }
 },
 "nbformat": 4,
 "nbformat_minor": 5
}
