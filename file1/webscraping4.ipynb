{
 "cells": [
  {
   "cell_type": "code",
   "execution_count": 1,
   "id": "51d4e024",
   "metadata": {},
   "outputs": [],
   "source": [
    "from bs4 import BeautifulSoup\n",
    "import requests\n",
    "import selenium\n",
    "import pandas as pd\n",
    "from selenium import webdriver\n",
    "import warnings\n",
    "warnings.filterwarnings('ignore')\n",
    "from selenium.webdriver.common.by import By\n",
    "from selenium.common.exceptions import StaleElementReferenceException, NoSuchElementException\n",
    "import time"
   ]
  },
  {
   "cell_type": "markdown",
   "id": "4c64b3d1",
   "metadata": {},
   "source": [
    "# ans3"
   ]
  },
  {
   "cell_type": "code",
   "execution_count": 2,
   "id": "67c86fc6",
   "metadata": {},
   "outputs": [],
   "source": [
    "driver=webdriver.Chrome()\n",
    "driver.get('https://statisticstimes.com/economy/india-statistics.php')"
   ]
  },
  {
   "cell_type": "code",
   "execution_count": 3,
   "id": "85c8502b",
   "metadata": {},
   "outputs": [],
   "source": [
    "rank=[]\n",
    "state=[]\n",
    "gsdp_current_price=[]\n",
    "gsdp=[]\n",
    "share=[]\n"
   ]
  },
  {
   "cell_type": "code",
   "execution_count": 4,
   "id": "2ff31bd3",
   "metadata": {},
   "outputs": [],
   "source": [
    "rn=driver.find_elements(By.XPATH,'//td[@class=\"data1\"]')\n",
    "for i in rn:\n",
    "    if i.text is None:\n",
    "        rank.append(\"--\") \n",
    "    else:\n",
    "        rank.append(i.text) "
   ]
  },
  {
   "cell_type": "code",
   "execution_count": 5,
   "id": "c27c4037",
   "metadata": {},
   "outputs": [],
   "source": [
    "sta=driver.find_elements(By.XPATH,'//td[@class=\"name\"]')\n",
    "for i in sta:\n",
    "    result=i.text\n",
    "    state.append(result)"
   ]
  },
  {
   "cell_type": "code",
   "execution_count": 8,
   "id": "0ae064a5",
   "metadata": {},
   "outputs": [
    {
     "data": {
      "text/plain": [
       "68"
      ]
     },
     "execution_count": 8,
     "metadata": {},
     "output_type": "execute_result"
    }
   ],
   "source": [
    "len(rank)"
   ]
  },
  {
   "cell_type": "code",
   "execution_count": 9,
   "id": "8eb99181",
   "metadata": {},
   "outputs": [],
   "source": [
    "gd=driver.find_elements(By.XPATH,'//td[@class=\"data sorting_1\"]')\n",
    "for i in gd:\n",
    "    re=i.text\n",
    "    gsdp_current_price.append(re)"
   ]
  },
  {
   "cell_type": "code",
   "execution_count": 10,
   "id": "b1d3ebe3",
   "metadata": {},
   "outputs": [
    {
     "data": {
      "text/plain": [
       "66"
      ]
     },
     "execution_count": 10,
     "metadata": {},
     "output_type": "execute_result"
    }
   ],
   "source": [
    "len(gsdp_current_price)"
   ]
  },
  {
   "cell_type": "code",
   "execution_count": 11,
   "id": "05f3c02d",
   "metadata": {},
   "outputs": [],
   "source": [
    "gsd=driver.find_elements(By.XPATH,'//td[@class=\"data\"][4]')\n",
    "for i in gsd:\n",
    "    fd=i.text\n",
    "    gsdp.append(fd)"
   ]
  },
  {
   "cell_type": "code",
   "execution_count": 12,
   "id": "3c2ba612",
   "metadata": {},
   "outputs": [],
   "source": [
    "shar=driver.find_elements(By.XPATH,'//td[@class=\"data\"][2]')\n",
    "for i in shar:\n",
    "    rf=i.text\n",
    "    share.append(rf)"
   ]
  },
  {
   "cell_type": "code",
   "execution_count": 20,
   "id": "242f0305",
   "metadata": {},
   "outputs": [
    {
     "data": {
      "text/plain": [
       "'Andaman & Nicobar Islands'"
      ]
     },
     "execution_count": 20,
     "metadata": {},
     "output_type": "execute_result"
    }
   ],
   "source": [
    "state.pop()"
   ]
  },
  {
   "cell_type": "code",
   "execution_count": 25,
   "id": "f5f81f59",
   "metadata": {},
   "outputs": [
    {
     "data": {
      "text/html": [
       "<div>\n",
       "<style scoped>\n",
       "    .dataframe tbody tr th:only-of-type {\n",
       "        vertical-align: middle;\n",
       "    }\n",
       "\n",
       "    .dataframe tbody tr th {\n",
       "        vertical-align: top;\n",
       "    }\n",
       "\n",
       "    .dataframe thead th {\n",
       "        text-align: right;\n",
       "    }\n",
       "</style>\n",
       "<table border=\"1\" class=\"dataframe\">\n",
       "  <thead>\n",
       "    <tr style=\"text-align: right;\">\n",
       "      <th></th>\n",
       "      <th>RANK</th>\n",
       "      <th>STATES</th>\n",
       "      <th>gsdp_current_price</th>\n",
       "      <th>SHARE</th>\n",
       "      <th>GSDP</th>\n",
       "    </tr>\n",
       "  </thead>\n",
       "  <tbody>\n",
       "    <tr>\n",
       "      <th>0</th>\n",
       "      <td>1</td>\n",
       "      <td>Maharashtra</td>\n",
       "      <td>3,108,022</td>\n",
       "      <td>13.24%</td>\n",
       "      <td>-</td>\n",
       "    </tr>\n",
       "    <tr>\n",
       "      <th>1</th>\n",
       "      <td>2</td>\n",
       "      <td>Tamil Nadu</td>\n",
       "      <td>2,071,286</td>\n",
       "      <td>8.82%</td>\n",
       "      <td>1,453,321</td>\n",
       "    </tr>\n",
       "    <tr>\n",
       "      <th>2</th>\n",
       "      <td>3</td>\n",
       "      <td>Uttar Pradesh</td>\n",
       "      <td>1,974,532</td>\n",
       "      <td>8.41%</td>\n",
       "      <td>1,304,678</td>\n",
       "    </tr>\n",
       "    <tr>\n",
       "      <th>3</th>\n",
       "      <td>4</td>\n",
       "      <td>Karnataka</td>\n",
       "      <td>1,962,725</td>\n",
       "      <td>8.36%</td>\n",
       "      <td>1,326,319</td>\n",
       "    </tr>\n",
       "    <tr>\n",
       "      <th>4</th>\n",
       "      <td>5</td>\n",
       "      <td>Gujarat</td>\n",
       "      <td>1,937,066</td>\n",
       "      <td>8.25%</td>\n",
       "      <td>-</td>\n",
       "    </tr>\n",
       "    <tr>\n",
       "      <th>...</th>\n",
       "      <td>...</td>\n",
       "      <td>...</td>\n",
       "      <td>...</td>\n",
       "      <td>...</td>\n",
       "      <td>...</td>\n",
       "    </tr>\n",
       "    <tr>\n",
       "      <th>61</th>\n",
       "      <td>28</td>\n",
       "      <td>Manipur</td>\n",
       "      <td>31,669</td>\n",
       "      <td>0.16%</td>\n",
       "      <td>17,810</td>\n",
       "    </tr>\n",
       "    <tr>\n",
       "      <th>62</th>\n",
       "      <td>29</td>\n",
       "      <td>Arunachal Pradesh</td>\n",
       "      <td>31,519</td>\n",
       "      <td>0.16%</td>\n",
       "      <td>17,214</td>\n",
       "    </tr>\n",
       "    <tr>\n",
       "      <th>63</th>\n",
       "      <td>30</td>\n",
       "      <td>Sikkim</td>\n",
       "      <td>27,859</td>\n",
       "      <td>0.16%</td>\n",
       "      <td>16,764</td>\n",
       "    </tr>\n",
       "    <tr>\n",
       "      <th>64</th>\n",
       "      <td>31</td>\n",
       "      <td>Nagaland</td>\n",
       "      <td>24,293</td>\n",
       "      <td>0.14%</td>\n",
       "      <td>15,495</td>\n",
       "    </tr>\n",
       "    <tr>\n",
       "      <th>65</th>\n",
       "      <td>32</td>\n",
       "      <td>Mizoram</td>\n",
       "      <td>9,209</td>\n",
       "      <td>0.12%</td>\n",
       "      <td>15,847</td>\n",
       "    </tr>\n",
       "  </tbody>\n",
       "</table>\n",
       "<p>66 rows × 5 columns</p>\n",
       "</div>"
      ],
      "text/plain": [
       "   RANK             STATES gsdp_current_price   SHARE       GSDP\n",
       "0     1        Maharashtra          3,108,022  13.24%          -\n",
       "1     2         Tamil Nadu          2,071,286   8.82%  1,453,321\n",
       "2     3      Uttar Pradesh          1,974,532   8.41%  1,304,678\n",
       "3     4          Karnataka          1,962,725   8.36%  1,326,319\n",
       "4     5            Gujarat          1,937,066   8.25%          -\n",
       "..  ...                ...                ...     ...        ...\n",
       "61   28            Manipur             31,669   0.16%     17,810\n",
       "62   29  Arunachal Pradesh             31,519   0.16%     17,214\n",
       "63   30             Sikkim             27,859   0.16%     16,764\n",
       "64   31           Nagaland             24,293   0.14%     15,495\n",
       "65   32            Mizoram              9,209   0.12%     15,847\n",
       "\n",
       "[66 rows x 5 columns]"
      ]
     },
     "execution_count": 25,
     "metadata": {},
     "output_type": "execute_result"
    }
   ],
   "source": [
    "data=pd.DataFrame({'RANK':rank,'STATES':state,'gsdp_current_price':gsdp_current_price,\n",
    "                  'SHARE':share,'GSDP':gsdp})\n",
    "data\n"
   ]
  },
  {
   "cell_type": "markdown",
   "id": "2b385148",
   "metadata": {},
   "source": [
    "# ans4"
   ]
  },
  {
   "cell_type": "code",
   "execution_count": 7,
   "id": "92a85b7b",
   "metadata": {},
   "outputs": [],
   "source": [
    "url_1='https://github.com/trending'"
   ]
  },
  {
   "cell_type": "code",
   "execution_count": 8,
   "id": "01064cc7",
   "metadata": {},
   "outputs": [],
   "source": [
    "driver=webdriver.Chrome()\n",
    "driver.get(url_1)"
   ]
  },
  {
   "cell_type": "code",
   "execution_count": 9,
   "id": "89586817",
   "metadata": {},
   "outputs": [],
   "source": [
    "Repository_Name =[]\n",
    "Language=[]\n",
    "repositary_description=[]\n",
    "contributor_count=[]"
   ]
  },
  {
   "cell_type": "code",
   "execution_count": 10,
   "id": "ef7c7832",
   "metadata": {},
   "outputs": [],
   "source": [
    "name=driver.find_elements(By.XPATH,'//span[@class=\"text-normal\"]')\n",
    "\n",
    "for i in name:\n",
    "    res1=i.text\n",
    "    Repository_Name.append(res1)"
   ]
  },
  {
   "cell_type": "code",
   "execution_count": 12,
   "id": "2fbac19b",
   "metadata": {},
   "outputs": [],
   "source": [
    "descr=driver.find_elements(By.XPATH,'//p[@class=\"col-9 color-fg-muted my-1 pr-4\"]')\n",
    "\n",
    "for i in descr:\n",
    "    res2=i.text\n",
    "    repositary_description.append(res2)"
   ]
  },
  {
   "cell_type": "code",
   "execution_count": 13,
   "id": "4ccc68a8",
   "metadata": {},
   "outputs": [
    {
     "data": {
      "text/plain": [
       "['locally hosted web application that allows you to perform various operations on PDF files',\n",
       " 'Print-friendly, minimalist CV page',\n",
       " 'gpt4all: open-source LLM chatbots that you can run anywhere',\n",
       " 'An HTTP/1.1 client, written from scratch for Node.js',\n",
       " 'Beautifully designed components that you can copy and paste into your apps. Accessible. Customizable. Open Source.',\n",
       " 'Upserts, Deletes And Incremental Processing on Big Data.',\n",
       " 'A unified evaluation framework for large language models',\n",
       " 'GUI-focused roop',\n",
       " 'Learn how to design systems at scale and prepare for system design interviews',\n",
       " 'A curated awesome list of lists of interview questions. Feel free to contribute! 🎓',\n",
       " 'A small web app for watching movies and shows easily',\n",
       " 'Debug remotely and easily like chrome devtools.',\n",
       " 'ChatGLM3 series: Open Bilingual Chat LLMs | 开源双语对话语言模型',\n",
       " \"A modern react admin. It is based on react 18, vite and TypeScript. It's fast !\",\n",
       " '🦖 𝗟𝗲𝗮𝗿𝗻 about 𝗟𝗟𝗠𝘀, 𝗟𝗟𝗠𝗢𝗽𝘀, and 𝘃𝗲𝗰𝘁𝗼𝗿 𝗗𝗕𝘀 for free by designing, training, and deploying a real-time financial advisor LLM system ~ 𝘴𝘰𝘶𝘳𝘤𝘦 𝘤𝘰𝘥𝘦 + 𝘷𝘪𝘥𝘦𝘰 & 𝘳𝘦𝘢𝘥𝘪𝘯𝘨 𝘮𝘢𝘵𝘦𝘳𝘪𝘢𝘭𝘴',\n",
       " 'StreamDiffusion: A Pipeline-Level Solution for Real-Time Interactive Generation',\n",
       " 'Official PyTorch implementation of \"TinySAM: Pushing the Envelope for Efficient Segment Anything Model\"',\n",
       " 'The Dom amongst the Flipper Zero Firmware. Give your Flipper the power and freedom it is really craving. Let it show you its true form. Dont delay, switch to the one and only true Master today!',\n",
       " 'The instant on-demand atomic CSS engine.',\n",
       " 'A Fundamental End-to-End Speech Recognition Toolkit and Open Source SOTA Pretrained Models.',\n",
       " 'Ruta de estudio basada en ejercicios de código semanales en 2024 de la comunidad MoureDev para aprender y practicar lógica usando cualquier lenguaje de programación.',\n",
       " '🥳 A React components collection for Web3!',\n",
       " 'CSVs sliced, diced & analyzed.',\n",
       " 'The Intuitive Vue Framework.',\n",
       " 'Emu Series: Generative Multimodal Models from BAAI']"
      ]
     },
     "execution_count": 13,
     "metadata": {},
     "output_type": "execute_result"
    }
   ],
   "source": [
    "repositary_description"
   ]
  },
  {
   "cell_type": "code",
   "execution_count": 14,
   "id": "e8174f6a",
   "metadata": {},
   "outputs": [],
   "source": [
    "lang=driver.find_elements(By.XPATH,'//span[@class=\"d-inline-block ml-0 mr-3\"]/span[2]')\n",
    "\n",
    "for i in lang:\n",
    "    res3=i.text\n",
    "    Language.append(res3)"
   ]
  },
  {
   "cell_type": "code",
   "execution_count": 18,
   "id": "a9dd27d3",
   "metadata": {},
   "outputs": [
    {
     "data": {
      "text/plain": [
       "23"
      ]
     },
     "execution_count": 18,
     "metadata": {},
     "output_type": "execute_result"
    }
   ],
   "source": [
    "len(Language)"
   ]
  },
  {
   "cell_type": "code",
   "execution_count": 19,
   "id": "387304f3",
   "metadata": {},
   "outputs": [],
   "source": [
    "counter=driver.find_elements(By.XPATH,'//span[@class=\"d-inline-block float-sm-right\"]')\n",
    "\n",
    "for i in counter:\n",
    "    res4=i.text\n",
    "    contributor_count.append(res4)"
   ]
  },
  {
   "cell_type": "code",
   "execution_count": 23,
   "id": "a8a8c4fe",
   "metadata": {},
   "outputs": [
    {
     "data": {
      "text/plain": [
       "25"
      ]
     },
     "execution_count": 23,
     "metadata": {},
     "output_type": "execute_result"
    }
   ],
   "source": [
    "len(Language)"
   ]
  },
  {
   "cell_type": "code",
   "execution_count": 24,
   "id": "d88ae26c",
   "metadata": {},
   "outputs": [
    {
     "data": {
      "text/html": [
       "<div>\n",
       "<style scoped>\n",
       "    .dataframe tbody tr th:only-of-type {\n",
       "        vertical-align: middle;\n",
       "    }\n",
       "\n",
       "    .dataframe tbody tr th {\n",
       "        vertical-align: top;\n",
       "    }\n",
       "\n",
       "    .dataframe thead th {\n",
       "        text-align: right;\n",
       "    }\n",
       "</style>\n",
       "<table border=\"1\" class=\"dataframe\">\n",
       "  <thead>\n",
       "    <tr style=\"text-align: right;\">\n",
       "      <th></th>\n",
       "      <th>Repository_Name</th>\n",
       "      <th>Language_type</th>\n",
       "      <th>repositary_description</th>\n",
       "      <th>contributor_count</th>\n",
       "    </tr>\n",
       "  </thead>\n",
       "  <tbody>\n",
       "    <tr>\n",
       "      <th>0</th>\n",
       "      <td>Frooodle /</td>\n",
       "      <td>Java</td>\n",
       "      <td>locally hosted web application that allows you...</td>\n",
       "      <td>2,681 stars today</td>\n",
       "    </tr>\n",
       "    <tr>\n",
       "      <th>1</th>\n",
       "      <td>BartoszJarocki /</td>\n",
       "      <td>TypeScript</td>\n",
       "      <td>Print-friendly, minimalist CV page</td>\n",
       "      <td>698 stars today</td>\n",
       "    </tr>\n",
       "    <tr>\n",
       "      <th>2</th>\n",
       "      <td>nomic-ai /</td>\n",
       "      <td>C++</td>\n",
       "      <td>gpt4all: open-source LLM chatbots that you can...</td>\n",
       "      <td>445 stars today</td>\n",
       "    </tr>\n",
       "    <tr>\n",
       "      <th>3</th>\n",
       "      <td>nodejs /</td>\n",
       "      <td>JavaScript</td>\n",
       "      <td>An HTTP/1.1 client, written from scratch for N...</td>\n",
       "      <td>45 stars today</td>\n",
       "    </tr>\n",
       "    <tr>\n",
       "      <th>4</th>\n",
       "      <td>shadcn-ui /</td>\n",
       "      <td>TypeScript</td>\n",
       "      <td>Beautifully designed components that you can c...</td>\n",
       "      <td>253 stars today</td>\n",
       "    </tr>\n",
       "    <tr>\n",
       "      <th>5</th>\n",
       "      <td>apache /</td>\n",
       "      <td>Java</td>\n",
       "      <td>Upserts, Deletes And Incremental Processing on...</td>\n",
       "      <td>11 stars today</td>\n",
       "    </tr>\n",
       "    <tr>\n",
       "      <th>6</th>\n",
       "      <td>microsoft /</td>\n",
       "      <td>Python</td>\n",
       "      <td>A unified evaluation framework for large langu...</td>\n",
       "      <td>246 stars today</td>\n",
       "    </tr>\n",
       "    <tr>\n",
       "      <th>7</th>\n",
       "      <td>Hillobar /</td>\n",
       "      <td>Python</td>\n",
       "      <td>GUI-focused roop</td>\n",
       "      <td>192 stars today</td>\n",
       "    </tr>\n",
       "    <tr>\n",
       "      <th>8</th>\n",
       "      <td>karanpratapsingh /</td>\n",
       "      <td>TypeScript</td>\n",
       "      <td>Learn how to design systems at scale and prepa...</td>\n",
       "      <td>484 stars today</td>\n",
       "    </tr>\n",
       "    <tr>\n",
       "      <th>9</th>\n",
       "      <td>DopplerHQ /</td>\n",
       "      <td>TypeScript</td>\n",
       "      <td>A curated awesome list of lists of interview q...</td>\n",
       "      <td>102 stars today</td>\n",
       "    </tr>\n",
       "    <tr>\n",
       "      <th>10</th>\n",
       "      <td>movie-web /</td>\n",
       "      <td>Python</td>\n",
       "      <td>A small web app for watching movies and shows ...</td>\n",
       "      <td>594 stars today</td>\n",
       "    </tr>\n",
       "    <tr>\n",
       "      <th>11</th>\n",
       "      <td>HuolalaTech /</td>\n",
       "      <td>TypeScript</td>\n",
       "      <td>Debug remotely and easily like chrome devtools.</td>\n",
       "      <td>54 stars today</td>\n",
       "    </tr>\n",
       "    <tr>\n",
       "      <th>12</th>\n",
       "      <td>THUDM /</td>\n",
       "      <td>Jupyter Notebook</td>\n",
       "      <td>ChatGLM3 series: Open Bilingual Chat LLMs | 开源...</td>\n",
       "      <td>56 stars today</td>\n",
       "    </tr>\n",
       "    <tr>\n",
       "      <th>13</th>\n",
       "      <td>d3george /</td>\n",
       "      <td>Python</td>\n",
       "      <td>A modern react admin. It is based on react 18,...</td>\n",
       "      <td>54 stars today</td>\n",
       "    </tr>\n",
       "    <tr>\n",
       "      <th>14</th>\n",
       "      <td>iusztinpaul /</td>\n",
       "      <td>Python</td>\n",
       "      <td>🦖 𝗟𝗲𝗮𝗿𝗻 about 𝗟𝗟𝗠𝘀, 𝗟𝗟𝗠𝗢𝗽𝘀, and 𝘃𝗲𝗰𝘁𝗼𝗿 𝗗𝗕𝘀 for...</td>\n",
       "      <td>41 stars today</td>\n",
       "    </tr>\n",
       "    <tr>\n",
       "      <th>15</th>\n",
       "      <td>cumulo-autumn /</td>\n",
       "      <td>C</td>\n",
       "      <td>StreamDiffusion: A Pipeline-Level Solution for...</td>\n",
       "      <td>467 stars today</td>\n",
       "    </tr>\n",
       "    <tr>\n",
       "      <th>16</th>\n",
       "      <td>xinghaochen /</td>\n",
       "      <td>TypeScript</td>\n",
       "      <td>Official PyTorch implementation of \"TinySAM: P...</td>\n",
       "      <td>22 stars today</td>\n",
       "    </tr>\n",
       "    <tr>\n",
       "      <th>17</th>\n",
       "      <td>Flipper-XFW /</td>\n",
       "      <td>Python</td>\n",
       "      <td>The Dom amongst the Flipper Zero Firmware. Giv...</td>\n",
       "      <td>30 stars today</td>\n",
       "    </tr>\n",
       "    <tr>\n",
       "      <th>18</th>\n",
       "      <td>unocss /</td>\n",
       "      <td>Python</td>\n",
       "      <td>The instant on-demand atomic CSS engine.</td>\n",
       "      <td>43 stars today</td>\n",
       "    </tr>\n",
       "    <tr>\n",
       "      <th>19</th>\n",
       "      <td>alibaba-damo-academy /</td>\n",
       "      <td>TypeScript</td>\n",
       "      <td>A Fundamental End-to-End Speech Recognition To...</td>\n",
       "      <td>93 stars today</td>\n",
       "    </tr>\n",
       "    <tr>\n",
       "      <th>20</th>\n",
       "      <td>mouredev /</td>\n",
       "      <td>Rust</td>\n",
       "      <td>Ruta de estudio basada en ejercicios de código...</td>\n",
       "      <td>36 stars today</td>\n",
       "    </tr>\n",
       "    <tr>\n",
       "      <th>21</th>\n",
       "      <td>ant-design /</td>\n",
       "      <td>TypeScript</td>\n",
       "      <td>🥳 A React components collection for Web3!</td>\n",
       "      <td>25 stars today</td>\n",
       "    </tr>\n",
       "    <tr>\n",
       "      <th>22</th>\n",
       "      <td>jqnatividad /</td>\n",
       "      <td>Python</td>\n",
       "      <td>CSVs sliced, diced &amp; analyzed.</td>\n",
       "      <td>137 stars today</td>\n",
       "    </tr>\n",
       "    <tr>\n",
       "      <th>23</th>\n",
       "      <td>nuxt /</td>\n",
       "      <td>[java, typescript]</td>\n",
       "      <td>The Intuitive Vue Framework.</td>\n",
       "      <td>46 stars today</td>\n",
       "    </tr>\n",
       "    <tr>\n",
       "      <th>24</th>\n",
       "      <td>baaivision /</td>\n",
       "      <td>java</td>\n",
       "      <td>Emu Series: Generative Multimodal Models from ...</td>\n",
       "      <td>59 stars today</td>\n",
       "    </tr>\n",
       "  </tbody>\n",
       "</table>\n",
       "</div>"
      ],
      "text/plain": [
       "          Repository_Name        Language_type  \\\n",
       "0               Frooodle /                Java   \n",
       "1         BartoszJarocki /          TypeScript   \n",
       "2               nomic-ai /                 C++   \n",
       "3                 nodejs /          JavaScript   \n",
       "4              shadcn-ui /          TypeScript   \n",
       "5                 apache /                Java   \n",
       "6              microsoft /              Python   \n",
       "7               Hillobar /              Python   \n",
       "8       karanpratapsingh /          TypeScript   \n",
       "9              DopplerHQ /          TypeScript   \n",
       "10             movie-web /              Python   \n",
       "11           HuolalaTech /          TypeScript   \n",
       "12                 THUDM /    Jupyter Notebook   \n",
       "13              d3george /              Python   \n",
       "14           iusztinpaul /              Python   \n",
       "15         cumulo-autumn /                   C   \n",
       "16           xinghaochen /          TypeScript   \n",
       "17           Flipper-XFW /              Python   \n",
       "18                unocss /              Python   \n",
       "19  alibaba-damo-academy /          TypeScript   \n",
       "20              mouredev /                Rust   \n",
       "21            ant-design /          TypeScript   \n",
       "22           jqnatividad /              Python   \n",
       "23                  nuxt /  [java, typescript]   \n",
       "24            baaivision /                java   \n",
       "\n",
       "                               repositary_description  contributor_count  \n",
       "0   locally hosted web application that allows you...  2,681 stars today  \n",
       "1                  Print-friendly, minimalist CV page    698 stars today  \n",
       "2   gpt4all: open-source LLM chatbots that you can...    445 stars today  \n",
       "3   An HTTP/1.1 client, written from scratch for N...     45 stars today  \n",
       "4   Beautifully designed components that you can c...    253 stars today  \n",
       "5   Upserts, Deletes And Incremental Processing on...     11 stars today  \n",
       "6   A unified evaluation framework for large langu...    246 stars today  \n",
       "7                                    GUI-focused roop    192 stars today  \n",
       "8   Learn how to design systems at scale and prepa...    484 stars today  \n",
       "9   A curated awesome list of lists of interview q...    102 stars today  \n",
       "10  A small web app for watching movies and shows ...    594 stars today  \n",
       "11    Debug remotely and easily like chrome devtools.     54 stars today  \n",
       "12  ChatGLM3 series: Open Bilingual Chat LLMs | 开源...     56 stars today  \n",
       "13  A modern react admin. It is based on react 18,...     54 stars today  \n",
       "14  🦖 𝗟𝗲𝗮𝗿𝗻 about 𝗟𝗟𝗠𝘀, 𝗟𝗟𝗠𝗢𝗽𝘀, and 𝘃𝗲𝗰𝘁𝗼𝗿 𝗗𝗕𝘀 for...     41 stars today  \n",
       "15  StreamDiffusion: A Pipeline-Level Solution for...    467 stars today  \n",
       "16  Official PyTorch implementation of \"TinySAM: P...     22 stars today  \n",
       "17  The Dom amongst the Flipper Zero Firmware. Giv...     30 stars today  \n",
       "18           The instant on-demand atomic CSS engine.     43 stars today  \n",
       "19  A Fundamental End-to-End Speech Recognition To...     93 stars today  \n",
       "20  Ruta de estudio basada en ejercicios de código...     36 stars today  \n",
       "21          🥳 A React components collection for Web3!     25 stars today  \n",
       "22                     CSVs sliced, diced & analyzed.    137 stars today  \n",
       "23                       The Intuitive Vue Framework.     46 stars today  \n",
       "24  Emu Series: Generative Multimodal Models from ...     59 stars today  "
      ]
     },
     "execution_count": 24,
     "metadata": {},
     "output_type": "execute_result"
    }
   ],
   "source": [
    "dataset=pd.DataFrame({'Repository_Name ':Repository_Name,'Language_type':Language,'repositary_description':repositary_description,\n",
    "                     'contributor_count':contributor_count})\n",
    "dataset"
   ]
  },
  {
   "cell_type": "markdown",
   "id": "68fd0325",
   "metadata": {},
   "source": [
    "# ans5"
   ]
  },
  {
   "cell_type": "code",
   "execution_count": 2,
   "id": "0a3060f0",
   "metadata": {},
   "outputs": [],
   "source": [
    "url_2='https:/www.billboard.com/charts/'\n"
   ]
  },
  {
   "cell_type": "code",
   "execution_count": 3,
   "id": "5ba23837",
   "metadata": {},
   "outputs": [],
   "source": [
    "driver=webdriver.Chrome()\n",
    "driver.get(url_2)"
   ]
  },
  {
   "cell_type": "code",
   "execution_count": 5,
   "id": "05dfbd23",
   "metadata": {},
   "outputs": [],
   "source": [
    "tops100=driver.find_element(By.XPATH,'/html/body/div[3]/main/div[2]/div[1]/div[1]/div/div/div[1]/div/div[2]/span/a')\n",
    "tops100.click()"
   ]
  },
  {
   "cell_type": "code",
   "execution_count": 6,
   "id": "5f942e78",
   "metadata": {},
   "outputs": [],
   "source": [
    "song_name=[]\n",
    "Artist_name=[]\n",
    "last_week_rank=[]\n",
    "peak_rank=[]\n",
    "weak_on_board=[]"
   ]
  },
  {
   "cell_type": "code",
   "execution_count": 7,
   "id": "a7d7bd34",
   "metadata": {},
   "outputs": [],
   "source": [
    "song=driver.find_elements(By.XPATH,'//li[@class=\"lrv-u-width-100p\"]/ul/li/h3')\n",
    "\n",
    "for i in song:\n",
    "    ss1=i.text\n",
    "    song_name.append(ss1)"
   ]
  },
  {
   "cell_type": "code",
   "execution_count": 8,
   "id": "8121d097",
   "metadata": {},
   "outputs": [
    {
     "data": {
      "text/plain": [
       "['All I Want For Christmas Is You',\n",
       " \"Rockin' Around The Christmas Tree\",\n",
       " 'Jingle Bell Rock',\n",
       " 'Last Christmas',\n",
       " 'A Holly Jolly Christmas',\n",
       " 'Lovin On Me',\n",
       " \"It's The Most Wonderful Time Of The Year\",\n",
       " 'Let It Snow, Let It Snow, Let It Snow!',\n",
       " 'Feliz Navidad',\n",
       " 'Sleigh Ride',\n",
       " 'The Christmas Song (Merry Christmas To You)',\n",
       " 'Santa Tell Me',\n",
       " 'Underneath The Tree',\n",
       " \"It's Beginning To Look A Lot Like Christmas\",\n",
       " 'White Christmas',\n",
       " 'Jingle Bells',\n",
       " 'Christmas (Baby Please Come Home)',\n",
       " 'Cruel Summer',\n",
       " 'Greedy',\n",
       " 'Snooze',\n",
       " 'Paint The Town Red',\n",
       " 'Here Comes Santa Claus (Right Down Santa Claus Lane)',\n",
       " 'Deck The Halls',\n",
       " \"It's Beginning To Look A Lot Like Christmas\",\n",
       " 'Blue Christmas',\n",
       " 'Water',\n",
       " 'Run Rudolph Run',\n",
       " 'I Remember Everything',\n",
       " 'Agora Hills',\n",
       " 'Santa Baby',\n",
       " 'Little Saint Nick',\n",
       " 'Please Come Home For Christmas',\n",
       " 'Last Night',\n",
       " \"You're A Mean One, Mr. Grinch\",\n",
       " \"Santa Claus Is Comin' To Town\",\n",
       " 'Wonderful Christmastime',\n",
       " \"Thinkin' Bout Me\",\n",
       " 'Rudolph The Red-Nosed Reindeer',\n",
       " 'Everybody',\n",
       " \"Is It Over Now? (Taylor's Version) [From The Vault]\",\n",
       " 'Lose Control',\n",
       " 'FTCU',\n",
       " \"Like It's Christmas\",\n",
       " 'Happy Holiday / The Holiday Season',\n",
       " 'This Christmas',\n",
       " 'Fast Car',\n",
       " 'Lil Boo Thang',\n",
       " 'Happy Xmas (War Is Over)',\n",
       " 'What Was I Made For?',\n",
       " 'Rich Baby Daddy',\n",
       " 'First Person Shooter',\n",
       " 'White Horse',\n",
       " 'Stick Season',\n",
       " 'Used To Be Young',\n",
       " 'World On Fire',\n",
       " 'Good Good',\n",
       " 'Houdini',\n",
       " 'My Love Mine All Mine',\n",
       " 'Pretty Little Poison',\n",
       " 'Exes',\n",
       " 'Surround Sound',\n",
       " 'On My Mama',\n",
       " 'IDGAF',\n",
       " 'Monaco',\n",
       " 'Needle',\n",
       " 'Strangers',\n",
       " 'Wild Ones',\n",
       " 'Get Him Back!',\n",
       " 'Harley Quinn',\n",
       " 'You Broke My Heart',\n",
       " 'Bellakeo',\n",
       " 'Truck Bed',\n",
       " 'Save Me The Trouble',\n",
       " 'Beep Beep',\n",
       " '500lbs',\n",
       " 'La Diabla',\n",
       " \"You're Losing Me (From The Vault)\",\n",
       " 'Where The Wild Things Are',\n",
       " 'Standing Next To You',\n",
       " 'The Painter',\n",
       " 'Jingle Bells',\n",
       " 'Qlona',\n",
       " 'Crazy',\n",
       " 'Never Lose Me',\n",
       " 'Lace It',\n",
       " 'Burn It Down',\n",
       " \"Can't Catch Me Now\",\n",
       " 'Mind On You',\n",
       " 'Segun Quien',\n",
       " 'Feather',\n",
       " 'La Victima',\n",
       " 'Hey Driver',\n",
       " 'Wondering Why',\n",
       " 'DJ Play A Christmas Song',\n",
       " \"Different 'Round Here\",\n",
       " 'Winter Wonderland',\n",
       " 'Run For The Hills',\n",
       " 'Que Onda',\n",
       " 'Great Gatsby',\n",
       " 'One Of The Girls']"
      ]
     },
     "execution_count": 8,
     "metadata": {},
     "output_type": "execute_result"
    }
   ],
   "source": [
    "song_name"
   ]
  },
  {
   "cell_type": "code",
   "execution_count": 11,
   "id": "32b197f7",
   "metadata": {},
   "outputs": [],
   "source": [
    "artists=driver.find_elements(By.XPATH,'//ul[@class=\"lrv-a-unstyle-list lrv-u-flex lrv-u-height-100p lrv-u-flex-direction-column@mobile-max\"]/li[1]/span')\n",
    "\n",
    "for i in artists:\n",
    "    ss2=i.text\n",
    "    Artist_name.append(ss2)"
   ]
  },
  {
   "cell_type": "code",
   "execution_count": 14,
   "id": "b585dd60",
   "metadata": {},
   "outputs": [
    {
     "data": {
      "text/plain": [
       "'The Weeknd, JENNIE & Lily Rose Depp'"
      ]
     },
     "execution_count": 14,
     "metadata": {},
     "output_type": "execute_result"
    }
   ],
   "source": [
    "Artist_name.pop()"
   ]
  },
  {
   "cell_type": "code",
   "execution_count": 15,
   "id": "38dc86bf",
   "metadata": {},
   "outputs": [],
   "source": [
    "ranks=driver.find_elements(By.XPATH,'//ul[@class=\"lrv-a-unstyle-list lrv-u-flex lrv-u-height-100p lrv-u-flex-direction-column@mobile-max\"]/li[4]')\n",
    "\n",
    "for i in ranks:\n",
    "    ss3=i.text\n",
    "    last_week_rank.append(ss3)"
   ]
  },
  {
   "cell_type": "code",
   "execution_count": 16,
   "id": "f82d0820",
   "metadata": {},
   "outputs": [],
   "source": [
    "peak=driver.find_elements(By.XPATH,'//ul[@class=\"lrv-a-unstyle-list lrv-u-flex lrv-u-height-100p lrv-u-flex-direction-column@mobile-max\"]/li[5]')\n",
    "\n",
    "for i in peak:\n",
    "    ss4=i.text\n",
    "    peak_rank.append(ss4)"
   ]
  },
  {
   "cell_type": "code",
   "execution_count": 17,
   "id": "8d1ecfef",
   "metadata": {},
   "outputs": [
    {
     "data": {
      "text/plain": [
       "100"
      ]
     },
     "execution_count": 17,
     "metadata": {},
     "output_type": "execute_result"
    }
   ],
   "source": [
    "len(peak_rank)"
   ]
  },
  {
   "cell_type": "code",
   "execution_count": 18,
   "id": "1ad71e0f",
   "metadata": {},
   "outputs": [],
   "source": [
    "weakon=driver.find_elements(By.XPATH,'//ul[@class=\"lrv-a-unstyle-list lrv-u-flex lrv-u-height-100p lrv-u-flex-direction-column@mobile-max\"]/li[6]')\n",
    "\n",
    "for i in weakon:\n",
    "    ss5=i.text\n",
    "    weak_on_board.append(ss5)"
   ]
  },
  {
   "cell_type": "code",
   "execution_count": 19,
   "id": "5f0e72a6",
   "metadata": {},
   "outputs": [
    {
     "data": {
      "text/plain": [
       "100"
      ]
     },
     "execution_count": 19,
     "metadata": {},
     "output_type": "execute_result"
    }
   ],
   "source": [
    "len(weak_on_board)"
   ]
  },
  {
   "cell_type": "code",
   "execution_count": 20,
   "id": "1d21880a",
   "metadata": {},
   "outputs": [
    {
     "data": {
      "text/html": [
       "<div>\n",
       "<style scoped>\n",
       "    .dataframe tbody tr th:only-of-type {\n",
       "        vertical-align: middle;\n",
       "    }\n",
       "\n",
       "    .dataframe tbody tr th {\n",
       "        vertical-align: top;\n",
       "    }\n",
       "\n",
       "    .dataframe thead th {\n",
       "        text-align: right;\n",
       "    }\n",
       "</style>\n",
       "<table border=\"1\" class=\"dataframe\">\n",
       "  <thead>\n",
       "    <tr style=\"text-align: right;\">\n",
       "      <th></th>\n",
       "      <th>Song_name</th>\n",
       "      <th>Artist_name</th>\n",
       "      <th>peak_rank</th>\n",
       "      <th>last_week_rank</th>\n",
       "      <th>Weak_on_board</th>\n",
       "    </tr>\n",
       "  </thead>\n",
       "  <tbody>\n",
       "    <tr>\n",
       "      <th>0</th>\n",
       "      <td>All I Want For Christmas Is You</td>\n",
       "      <td>Mariah Carey</td>\n",
       "      <td>1</td>\n",
       "      <td>1</td>\n",
       "      <td>64</td>\n",
       "    </tr>\n",
       "    <tr>\n",
       "      <th>1</th>\n",
       "      <td>Rockin' Around The Christmas Tree</td>\n",
       "      <td>Mariah Carey</td>\n",
       "      <td>1</td>\n",
       "      <td>2</td>\n",
       "      <td>57</td>\n",
       "    </tr>\n",
       "    <tr>\n",
       "      <th>2</th>\n",
       "      <td>Jingle Bell Rock</td>\n",
       "      <td>Brenda Lee</td>\n",
       "      <td>3</td>\n",
       "      <td>3</td>\n",
       "      <td>55</td>\n",
       "    </tr>\n",
       "    <tr>\n",
       "      <th>3</th>\n",
       "      <td>Last Christmas</td>\n",
       "      <td>Bobby Helms</td>\n",
       "      <td>4</td>\n",
       "      <td>4</td>\n",
       "      <td>37</td>\n",
       "    </tr>\n",
       "    <tr>\n",
       "      <th>4</th>\n",
       "      <td>A Holly Jolly Christmas</td>\n",
       "      <td>Wham!</td>\n",
       "      <td>4</td>\n",
       "      <td>5</td>\n",
       "      <td>38</td>\n",
       "    </tr>\n",
       "    <tr>\n",
       "      <th>...</th>\n",
       "      <td>...</td>\n",
       "      <td>...</td>\n",
       "      <td>...</td>\n",
       "      <td>...</td>\n",
       "      <td>...</td>\n",
       "    </tr>\n",
       "    <tr>\n",
       "      <th>95</th>\n",
       "      <td>Winter Wonderland</td>\n",
       "      <td>Riley Green Featuring Luke Combs</td>\n",
       "      <td>96</td>\n",
       "      <td>-</td>\n",
       "      <td>1</td>\n",
       "    </tr>\n",
       "    <tr>\n",
       "      <th>96</th>\n",
       "      <td>Run For The Hills</td>\n",
       "      <td>Chloe</td>\n",
       "      <td>69</td>\n",
       "      <td>69</td>\n",
       "      <td>2</td>\n",
       "    </tr>\n",
       "    <tr>\n",
       "      <th>97</th>\n",
       "      <td>Que Onda</td>\n",
       "      <td>Tate McRae</td>\n",
       "      <td>61</td>\n",
       "      <td>92</td>\n",
       "      <td>12</td>\n",
       "    </tr>\n",
       "    <tr>\n",
       "      <th>98</th>\n",
       "      <td>Great Gatsby</td>\n",
       "      <td>Calle 24 x Chino Pacas x Fuerza Regida</td>\n",
       "      <td>30</td>\n",
       "      <td>-</td>\n",
       "      <td>13</td>\n",
       "    </tr>\n",
       "    <tr>\n",
       "      <th>99</th>\n",
       "      <td>One Of The Girls</td>\n",
       "      <td>Rod Wave</td>\n",
       "      <td>100</td>\n",
       "      <td>-</td>\n",
       "      <td>1</td>\n",
       "    </tr>\n",
       "  </tbody>\n",
       "</table>\n",
       "<p>100 rows × 5 columns</p>\n",
       "</div>"
      ],
      "text/plain": [
       "                            Song_name                             Artist_name  \\\n",
       "0     All I Want For Christmas Is You                            Mariah Carey   \n",
       "1   Rockin' Around The Christmas Tree                            Mariah Carey   \n",
       "2                    Jingle Bell Rock                              Brenda Lee   \n",
       "3                      Last Christmas                             Bobby Helms   \n",
       "4             A Holly Jolly Christmas                                   Wham!   \n",
       "..                                ...                                     ...   \n",
       "95                  Winter Wonderland        Riley Green Featuring Luke Combs   \n",
       "96                  Run For The Hills                                   Chloe   \n",
       "97                           Que Onda                              Tate McRae   \n",
       "98                       Great Gatsby  Calle 24 x Chino Pacas x Fuerza Regida   \n",
       "99                   One Of The Girls                                Rod Wave   \n",
       "\n",
       "   peak_rank last_week_rank  Weak_on_board  \n",
       "0          1              1             64  \n",
       "1          1              2             57  \n",
       "2          3              3             55  \n",
       "3          4              4             37  \n",
       "4          4              5             38  \n",
       "..       ...            ...            ...  \n",
       "95        96              -              1  \n",
       "96        69             69              2  \n",
       "97        61             92             12  \n",
       "98        30              -             13  \n",
       "99       100              -              1  \n",
       "\n",
       "[100 rows x 5 columns]"
      ]
     },
     "execution_count": 20,
     "metadata": {},
     "output_type": "execute_result"
    }
   ],
   "source": [
    "dataset1=pd.DataFrame({'Song_name':song_name,'Artist_name':Artist_name,'peak_rank':peak_rank,\n",
    "                      'last_week_rank':last_week_rank,' Weak_on_board': weak_on_board})\n",
    "dataset1"
   ]
  },
  {
   "cell_type": "code",
   "execution_count": 21,
   "id": "4128297b",
   "metadata": {},
   "outputs": [],
   "source": [
    "driver.close()"
   ]
  },
  {
   "cell_type": "markdown",
   "id": "24ae9cbf",
   "metadata": {},
   "source": [
    "# ans6"
   ]
  },
  {
   "cell_type": "code",
   "execution_count": 4,
   "id": "d3b787a0",
   "metadata": {},
   "outputs": [],
   "source": [
    "url2='https://www.theguardian.com/news/datablog/2012/aug/09/best-selling-books-all-time-fifty-shades-grey-compare'"
   ]
  },
  {
   "cell_type": "code",
   "execution_count": 5,
   "id": "c015d2d3",
   "metadata": {},
   "outputs": [],
   "source": [
    "driver=webdriver.Chrome()\n",
    "driver.get(url2)"
   ]
  },
  {
   "cell_type": "code",
   "execution_count": 6,
   "id": "a0299fe6",
   "metadata": {},
   "outputs": [],
   "source": [
    "Book_name=[]\n",
    "Author_name=[]\n",
    "Volumes_sold=[]\n",
    "Publisher=[]\n",
    "Genre=[]"
   ]
  },
  {
   "cell_type": "code",
   "execution_count": 7,
   "id": "21abb0e9",
   "metadata": {},
   "outputs": [],
   "source": [
    "names=driver.find_elements(By.XPATH,'//table[@class=\"in-article sortable\"]/tbody/tr/td[2]')\n",
    "\n",
    "for i in names:\n",
    "    f1=i.text\n",
    "    Book_name.append(f1)"
   ]
  },
  {
   "cell_type": "code",
   "execution_count": 8,
   "id": "be5913f4",
   "metadata": {},
   "outputs": [
    {
     "data": {
      "text/plain": [
       "['Da Vinci Code,The',\n",
       " 'Harry Potter and the Deathly Hallows',\n",
       " \"Harry Potter and the Philosopher's Stone\",\n",
       " 'Harry Potter and the Order of the Phoenix',\n",
       " 'Fifty Shades of Grey',\n",
       " 'Harry Potter and the Goblet of Fire',\n",
       " 'Harry Potter and the Chamber of Secrets',\n",
       " 'Harry Potter and the Prisoner of Azkaban',\n",
       " 'Angels and Demons',\n",
       " \"Harry Potter and the Half-blood Prince:Children's Edition\",\n",
       " 'Fifty Shades Darker',\n",
       " 'Twilight',\n",
       " 'Girl with the Dragon Tattoo,The:Millennium Trilogy',\n",
       " 'Fifty Shades Freed',\n",
       " 'Lost Symbol,The',\n",
       " 'New Moon',\n",
       " 'Deception Point',\n",
       " 'Eclipse',\n",
       " 'Lovely Bones,The',\n",
       " 'Curious Incident of the Dog in the Night-time,The',\n",
       " 'Digital Fortress',\n",
       " 'Short History of Nearly Everything,A',\n",
       " 'Girl Who Played with Fire,The:Millennium Trilogy',\n",
       " 'Breaking Dawn',\n",
       " 'Very Hungry Caterpillar,The:The Very Hungry Caterpillar',\n",
       " 'Gruffalo,The',\n",
       " \"Jamie's 30-Minute Meals\",\n",
       " 'Kite Runner,The',\n",
       " 'One Day',\n",
       " 'Thousand Splendid Suns,A',\n",
       " \"Girl Who Kicked the Hornets' Nest,The:Millennium Trilogy\",\n",
       " \"Time Traveler's Wife,The\",\n",
       " 'Atonement',\n",
       " \"Bridget Jones's Diary:A Novel\",\n",
       " 'World According to Clarkson,The',\n",
       " \"Captain Corelli's Mandolin\",\n",
       " 'Sound of Laughter,The',\n",
       " 'Life of Pi',\n",
       " 'Billy Connolly',\n",
       " 'Child Called It,A',\n",
       " \"Gruffalo's Child,The\",\n",
       " \"Angela's Ashes:A Memoir of a Childhood\",\n",
       " 'Birdsong',\n",
       " 'Northern Lights:His Dark Materials S.',\n",
       " 'Labyrinth',\n",
       " 'Harry Potter and the Half-blood Prince',\n",
       " 'Help,The',\n",
       " 'Man and Boy',\n",
       " 'Memoirs of a Geisha',\n",
       " \"No.1 Ladies' Detective Agency,The:No.1 Ladies' Detective Agency S.\",\n",
       " 'Island,The',\n",
       " 'PS, I Love You',\n",
       " 'You are What You Eat:The Plan That Will Change Your Life',\n",
       " 'Shadow of the Wind,The',\n",
       " 'Tales of Beedle the Bard,The',\n",
       " 'Broker,The',\n",
       " \"Dr. Atkins' New Diet Revolution:The No-hunger, Luxurious Weight Loss P\",\n",
       " 'Subtle Knife,The:His Dark Materials S.',\n",
       " 'Eats, Shoots and Leaves:The Zero Tolerance Approach to Punctuation',\n",
       " \"Delia's How to Cook:(Bk.1)\",\n",
       " 'Chocolat',\n",
       " 'Boy in the Striped Pyjamas,The',\n",
       " \"My Sister's Keeper\",\n",
       " 'Amber Spyglass,The:His Dark Materials S.',\n",
       " 'To Kill a Mockingbird',\n",
       " 'Men are from Mars, Women are from Venus:A Practical Guide for Improvin',\n",
       " 'Dear Fatty',\n",
       " 'Short History of Tractors in Ukrainian,A',\n",
       " 'Hannibal',\n",
       " 'Lord of the Rings,The',\n",
       " 'Stupid White Men:...and Other Sorry Excuses for the State of the Natio',\n",
       " 'Interpretation of Murder,The',\n",
       " 'Sharon Osbourne Extreme:My Autobiography',\n",
       " 'Alchemist,The:A Fable About Following Your Dream',\n",
       " \"At My Mother's Knee ...:and Other Low Joints\",\n",
       " 'Notes from a Small Island',\n",
       " 'Return of the Naked Chef,The',\n",
       " 'Bridget Jones: The Edge of Reason',\n",
       " \"Jamie's Italy\",\n",
       " 'I Can Make You Thin',\n",
       " 'Down Under',\n",
       " 'Summons,The',\n",
       " 'Small Island',\n",
       " 'Nigella Express',\n",
       " 'Brick Lane',\n",
       " \"Memory Keeper's Daughter,The\",\n",
       " 'Room on the Broom',\n",
       " 'About a Boy',\n",
       " 'My Booky Wook',\n",
       " 'God Delusion,The',\n",
       " '\"Beano\" Annual,The',\n",
       " 'White Teeth',\n",
       " 'House at Riverton,The',\n",
       " 'Book Thief,The',\n",
       " 'Nights of Rain and Stars',\n",
       " 'Ghost,The',\n",
       " 'Happy Days with the Naked Chef',\n",
       " 'Hunger Games,The:Hunger Games Trilogy',\n",
       " \"Lost Boy,The:A Foster Child's Search for the Love of a Family\",\n",
       " \"Jamie's Ministry of Food:Anyone Can Learn to Cook in 24 Hours\"]"
      ]
     },
     "execution_count": 8,
     "metadata": {},
     "output_type": "execute_result"
    }
   ],
   "source": [
    "Book_name"
   ]
  },
  {
   "cell_type": "code",
   "execution_count": 9,
   "id": "395dcc96",
   "metadata": {},
   "outputs": [
    {
     "data": {
      "text/plain": [
       "100"
      ]
     },
     "execution_count": 9,
     "metadata": {},
     "output_type": "execute_result"
    }
   ],
   "source": [
    "len(Book_name)"
   ]
  },
  {
   "cell_type": "code",
   "execution_count": 11,
   "id": "f2abd29b",
   "metadata": {},
   "outputs": [],
   "source": [
    "author=driver.find_elements(By.XPATH,'//table[@class=\"in-article sortable\"]/tbody/tr/td[3]')\n",
    "\n",
    "for i in author:\n",
    "    f2=i.text\n",
    "    Author_name.append(f2)"
   ]
  },
  {
   "cell_type": "code",
   "execution_count": 12,
   "id": "73e66e58",
   "metadata": {},
   "outputs": [
    {
     "data": {
      "text/plain": [
       "100"
      ]
     },
     "execution_count": 12,
     "metadata": {},
     "output_type": "execute_result"
    }
   ],
   "source": [
    "len(Author_name)"
   ]
  },
  {
   "cell_type": "code",
   "execution_count": 13,
   "id": "42413519",
   "metadata": {},
   "outputs": [],
   "source": [
    "volume=driver.find_elements(By.XPATH,'//table[@class=\"in-article sortable\"]/tbody/tr/td[4]')\n",
    "\n",
    "for i in volume:\n",
    "    f3=i.text\n",
    "    Volumes_sold.append(f3)"
   ]
  },
  {
   "cell_type": "code",
   "execution_count": 14,
   "id": "e8142626",
   "metadata": {},
   "outputs": [
    {
     "data": {
      "text/plain": [
       "100"
      ]
     },
     "execution_count": 14,
     "metadata": {},
     "output_type": "execute_result"
    }
   ],
   "source": [
    "len(Volumes_sold)"
   ]
  },
  {
   "cell_type": "code",
   "execution_count": 15,
   "id": "0fac94f5",
   "metadata": {},
   "outputs": [
    {
     "name": "stdout",
     "output_type": "stream",
     "text": [
      "100\n"
     ]
    }
   ],
   "source": [
    "publis=driver.find_elements(By.XPATH,'//table[@class=\"in-article sortable\"]/tbody/tr/td[5]')\n",
    "\n",
    "for i in publis:\n",
    "    f4=i.text\n",
    "    Publisher.append(f4)\n",
    "print(len(Publisher))    "
   ]
  },
  {
   "cell_type": "code",
   "execution_count": 16,
   "id": "b9bcac77",
   "metadata": {},
   "outputs": [
    {
     "name": "stdout",
     "output_type": "stream",
     "text": [
      "100\n"
     ]
    }
   ],
   "source": [
    "genr=driver.find_elements(By.XPATH,'//table[@class=\"in-article sortable\"]/tbody/tr/td[6]')\n",
    "\n",
    "for i in genr:\n",
    "    f5=i.text\n",
    "    Genre.append(f5)\n",
    "print(len(Genre))    "
   ]
  },
  {
   "cell_type": "code",
   "execution_count": 17,
   "id": "1b48a028",
   "metadata": {},
   "outputs": [
    {
     "data": {
      "text/html": [
       "<div>\n",
       "<style scoped>\n",
       "    .dataframe tbody tr th:only-of-type {\n",
       "        vertical-align: middle;\n",
       "    }\n",
       "\n",
       "    .dataframe tbody tr th {\n",
       "        vertical-align: top;\n",
       "    }\n",
       "\n",
       "    .dataframe thead th {\n",
       "        text-align: right;\n",
       "    }\n",
       "</style>\n",
       "<table border=\"1\" class=\"dataframe\">\n",
       "  <thead>\n",
       "    <tr style=\"text-align: right;\">\n",
       "      <th></th>\n",
       "      <th>Book_name</th>\n",
       "      <th>Author_name</th>\n",
       "      <th>Genre</th>\n",
       "      <th>Publisher</th>\n",
       "      <th>Volumes_sold</th>\n",
       "    </tr>\n",
       "  </thead>\n",
       "  <tbody>\n",
       "    <tr>\n",
       "      <th>0</th>\n",
       "      <td>Da Vinci Code,The</td>\n",
       "      <td>Brown, Dan</td>\n",
       "      <td>Crime, Thriller &amp; Adventure</td>\n",
       "      <td>Transworld</td>\n",
       "      <td>5,094,805</td>\n",
       "    </tr>\n",
       "    <tr>\n",
       "      <th>1</th>\n",
       "      <td>Harry Potter and the Deathly Hallows</td>\n",
       "      <td>Rowling, J.K.</td>\n",
       "      <td>Children's Fiction</td>\n",
       "      <td>Bloomsbury</td>\n",
       "      <td>4,475,152</td>\n",
       "    </tr>\n",
       "    <tr>\n",
       "      <th>2</th>\n",
       "      <td>Harry Potter and the Philosopher's Stone</td>\n",
       "      <td>Rowling, J.K.</td>\n",
       "      <td>Children's Fiction</td>\n",
       "      <td>Bloomsbury</td>\n",
       "      <td>4,200,654</td>\n",
       "    </tr>\n",
       "    <tr>\n",
       "      <th>3</th>\n",
       "      <td>Harry Potter and the Order of the Phoenix</td>\n",
       "      <td>Rowling, J.K.</td>\n",
       "      <td>Children's Fiction</td>\n",
       "      <td>Bloomsbury</td>\n",
       "      <td>4,179,479</td>\n",
       "    </tr>\n",
       "    <tr>\n",
       "      <th>4</th>\n",
       "      <td>Fifty Shades of Grey</td>\n",
       "      <td>James, E. L.</td>\n",
       "      <td>Romance &amp; Sagas</td>\n",
       "      <td>Random House</td>\n",
       "      <td>3,758,936</td>\n",
       "    </tr>\n",
       "    <tr>\n",
       "      <th>...</th>\n",
       "      <td>...</td>\n",
       "      <td>...</td>\n",
       "      <td>...</td>\n",
       "      <td>...</td>\n",
       "      <td>...</td>\n",
       "    </tr>\n",
       "    <tr>\n",
       "      <th>95</th>\n",
       "      <td>Ghost,The</td>\n",
       "      <td>Harris, Robert</td>\n",
       "      <td>General &amp; Literary Fiction</td>\n",
       "      <td>Random House</td>\n",
       "      <td>807,311</td>\n",
       "    </tr>\n",
       "    <tr>\n",
       "      <th>96</th>\n",
       "      <td>Happy Days with the Naked Chef</td>\n",
       "      <td>Oliver, Jamie</td>\n",
       "      <td>Food &amp; Drink: General</td>\n",
       "      <td>Penguin</td>\n",
       "      <td>794,201</td>\n",
       "    </tr>\n",
       "    <tr>\n",
       "      <th>97</th>\n",
       "      <td>Hunger Games,The:Hunger Games Trilogy</td>\n",
       "      <td>Collins, Suzanne</td>\n",
       "      <td>Young Adult Fiction</td>\n",
       "      <td>Scholastic Ltd.</td>\n",
       "      <td>792,187</td>\n",
       "    </tr>\n",
       "    <tr>\n",
       "      <th>98</th>\n",
       "      <td>Lost Boy,The:A Foster Child's Search for the L...</td>\n",
       "      <td>Pelzer, Dave</td>\n",
       "      <td>Biography: General</td>\n",
       "      <td>Orion</td>\n",
       "      <td>791,507</td>\n",
       "    </tr>\n",
       "    <tr>\n",
       "      <th>99</th>\n",
       "      <td>Jamie's Ministry of Food:Anyone Can Learn to C...</td>\n",
       "      <td>Oliver, Jamie</td>\n",
       "      <td>Food &amp; Drink: General</td>\n",
       "      <td>Penguin</td>\n",
       "      <td>791,095</td>\n",
       "    </tr>\n",
       "  </tbody>\n",
       "</table>\n",
       "<p>100 rows × 5 columns</p>\n",
       "</div>"
      ],
      "text/plain": [
       "                                            Book_name       Author_name  \\\n",
       "0                                   Da Vinci Code,The        Brown, Dan   \n",
       "1                Harry Potter and the Deathly Hallows     Rowling, J.K.   \n",
       "2            Harry Potter and the Philosopher's Stone     Rowling, J.K.   \n",
       "3           Harry Potter and the Order of the Phoenix     Rowling, J.K.   \n",
       "4                                Fifty Shades of Grey      James, E. L.   \n",
       "..                                                ...               ...   \n",
       "95                                          Ghost,The    Harris, Robert   \n",
       "96                     Happy Days with the Naked Chef     Oliver, Jamie   \n",
       "97              Hunger Games,The:Hunger Games Trilogy  Collins, Suzanne   \n",
       "98  Lost Boy,The:A Foster Child's Search for the L...      Pelzer, Dave   \n",
       "99  Jamie's Ministry of Food:Anyone Can Learn to C...     Oliver, Jamie   \n",
       "\n",
       "                          Genre        Publisher Volumes_sold  \n",
       "0   Crime, Thriller & Adventure       Transworld    5,094,805  \n",
       "1            Children's Fiction       Bloomsbury    4,475,152  \n",
       "2            Children's Fiction       Bloomsbury    4,200,654  \n",
       "3            Children's Fiction       Bloomsbury    4,179,479  \n",
       "4               Romance & Sagas     Random House    3,758,936  \n",
       "..                          ...              ...          ...  \n",
       "95   General & Literary Fiction     Random House      807,311  \n",
       "96        Food & Drink: General          Penguin      794,201  \n",
       "97          Young Adult Fiction  Scholastic Ltd.      792,187  \n",
       "98           Biography: General            Orion      791,507  \n",
       "99        Food & Drink: General          Penguin      791,095  \n",
       "\n",
       "[100 rows x 5 columns]"
      ]
     },
     "execution_count": 17,
     "metadata": {},
     "output_type": "execute_result"
    }
   ],
   "source": [
    "novels=pd.DataFrame([])\n",
    "novels['Book_name']=Book_name\n",
    "novels['Author_name']=Author_name\n",
    "novels['Genre']=Genre\n",
    "novels['Publisher']=Publisher\n",
    "novels['Volumes_sold']=Volumes_sold\n",
    "novels"
   ]
  },
  {
   "cell_type": "markdown",
   "id": "6a614809",
   "metadata": {},
   "source": [
    "# ans1"
   ]
  },
  {
   "cell_type": "code",
   "execution_count": 5,
   "id": "651c3a4a",
   "metadata": {},
   "outputs": [],
   "source": [
    "url1='https://en.wikipedia.org/wiki/List_of_most-viewed_YouTube_videos'"
   ]
  },
  {
   "cell_type": "code",
   "execution_count": 6,
   "id": "d6747606",
   "metadata": {},
   "outputs": [],
   "source": [
    "driver=webdriver.Chrome()\n",
    "driver.get(url1)"
   ]
  },
  {
   "cell_type": "code",
   "execution_count": 38,
   "id": "b960d4d1",
   "metadata": {},
   "outputs": [],
   "source": [
    "Rank=[]\n",
    "Name=[]\n",
    "Artist_name=[]\n",
    "Upload_Date=[]\n",
    "Views=[]"
   ]
  },
  {
   "cell_type": "code",
   "execution_count": 30,
   "id": "39c9c58f",
   "metadata": {},
   "outputs": [
    {
     "name": "stdout",
     "output_type": "stream",
     "text": [
      "30\n"
     ]
    }
   ],
   "source": [
    "songs=driver.find_elements(By.XPATH,'//table[@class=\"sortable wikitable sticky-header static-row-numbers col3center col4right jquery-tablesorter\"]/tbody/tr/td[1]')\n",
    "\n",
    "for i in songs:\n",
    "    tm1=i.text\n",
    "    Name.append(tm1)\n",
    "print(len(Name))    "
   ]
  },
  {
   "cell_type": "code",
   "execution_count": 31,
   "id": "8b1273af",
   "metadata": {},
   "outputs": [
    {
     "data": {
      "text/plain": [
       "['\"Baby Shark Dance\"[6]',\n",
       " '\"Despacito\"[9]',\n",
       " '\"Johny Johny Yes Papa\"[17]',\n",
       " '\"Bath Song\"[18]',\n",
       " '\"Shape of You\"[19]',\n",
       " '\"See You Again\"[22]',\n",
       " '\"Wheels on the Bus\"[27]',\n",
       " '\"Phonics Song with Two Words\"[28]',\n",
       " '\"Uptown Funk\"[29]',\n",
       " '\"Learning Colors – Colorful Eggs on a Farm\"[30]',\n",
       " '\"Gangnam Style\"[31]',\n",
       " '\"Masha and the Bear – Recipe for Disaster\"[36]',\n",
       " '\"Dame Tu Cosita\"[37]',\n",
       " '\"Axel F\"[38]',\n",
       " '\"Sugar\"[39]',\n",
       " '\"Counting Stars\"[40]',\n",
       " '\"Roar\"[41]',\n",
       " '\"Baa Baa Black Sheep\"[42]',\n",
       " '\"Waka Waka (This Time for Africa)\"[43]',\n",
       " '\"Lakdi Ki Kathi\"[44]',\n",
       " '\"Sorry\"[45]',\n",
       " '\"Thinking Out Loud\"[46]',\n",
       " '\"Humpty the train on a fruits ride\"[47]',\n",
       " '\"Dark Horse\"[48]',\n",
       " '\"Perfect\"[49]',\n",
       " '\"Shree Hanuman Chalisa\"[50]',\n",
       " '\"Let Her Go\"[51]',\n",
       " '\"Faded\"[52]',\n",
       " '\"Girls Like You\"[53]',\n",
       " '\"Lean On\"[54]']"
      ]
     },
     "execution_count": 31,
     "metadata": {},
     "output_type": "execute_result"
    }
   ],
   "source": [
    "Name"
   ]
  },
  {
   "cell_type": "code",
   "execution_count": 32,
   "id": "847e651c",
   "metadata": {},
   "outputs": [
    {
     "name": "stdout",
     "output_type": "stream",
     "text": [
      "30\n",
      "['13.78', '8.33', '6.85', '6.52', '6.15', '6.11', '5.74', '5.59', '5.10', '5.03', '4.98', '4.57', '4.49', '4.19', '3.97', '3.93', '3.92', '3.86', '3.80', '3.78', '3.74', '3.70', '3.65', '3.64', '3.61', '3.57', '3.57', '3.56', '3.53', '3.51']\n"
     ]
    }
   ],
   "source": [
    "view=driver.find_elements(By.XPATH,'//table[@class=\"sortable wikitable sticky-header static-row-numbers col3center col4right jquery-tablesorter\"]/tbody/tr/td[3]')\n",
    "\n",
    "for i in view:\n",
    "    tm3=i.text\n",
    "    Views.append(tm3)\n",
    "print(len(Views))\n",
    "print(Views)"
   ]
  },
  {
   "cell_type": "code",
   "execution_count": 39,
   "id": "6333bc16",
   "metadata": {},
   "outputs": [
    {
     "name": "stdout",
     "output_type": "stream",
     "text": [
      "30\n",
      "['Major Lazer Official', 'Major Lazer Official', 'Major Lazer Official', 'Major Lazer Official', 'Major Lazer Official', 'Major Lazer Official', 'Major Lazer Official', 'Major Lazer Official', 'Major Lazer Official', 'Major Lazer Official', 'Major Lazer Official', 'Major Lazer Official', 'Major Lazer Official', 'Major Lazer Official', 'Major Lazer Official', 'Major Lazer Official', 'Major Lazer Official', 'Major Lazer Official', 'Major Lazer Official', 'Major Lazer Official', 'Major Lazer Official', 'Major Lazer Official', 'Major Lazer Official', 'Major Lazer Official', 'Major Lazer Official', 'Major Lazer Official', 'Major Lazer Official', 'Major Lazer Official', 'Major Lazer Official', 'Major Lazer Official']\n"
     ]
    }
   ],
   "source": [
    "uploadings=driver.find_elements(By.XPATH,'//table[@class=\"sortable wikitable sticky-header static-row-numbers col3center col4right jquery-tablesorter\"]/tbody/tr/td[2]')\n",
    "\n",
    "for i in uploadings:\n",
    "    tm8=i.text\n",
    "    Artist_name.append(tm7)\n",
    "print(len(Artist_name))\n",
    "print(Artist_name)"
   ]
  },
  {
   "cell_type": "code",
   "execution_count": 34,
   "id": "cc5e36b2",
   "metadata": {},
   "outputs": [
    {
     "name": "stdout",
     "output_type": "stream",
     "text": [
      "30\n",
      "['June 17, 2016', 'January 12, 2017', 'October 8, 2016', 'May 2, 2018', 'January 30, 2017', 'April 6, 2015', 'May 24, 2018', 'March 6, 2014', 'November 19, 2014', 'February 27, 2018', 'July 15, 2012', 'January 31, 2012', 'April 5, 2018', 'June 16, 2009', 'January 14, 2015', 'May 31, 2013', 'September 5, 2013', 'June 25, 2018', 'June 4, 2010', 'June 14, 2018', 'October 22, 2015', 'October 7, 2014', 'January 26, 2018', 'February 20, 2014', 'November 9, 2017', 'May 10, 2011', 'July 25, 2012', 'December 3, 2015', 'May 31, 2018', 'March 22, 2015']\n"
     ]
    }
   ],
   "source": [
    "dates=driver.find_elements(By.XPATH,'//table[@class=\"sortable wikitable sticky-header static-row-numbers col3center col4right jquery-tablesorter\"]/tbody/tr/td[4]')\n",
    "\n",
    "for i in dates:\n",
    "    tm4=i.text\n",
    "    Upload_Date.append(tm4)\n",
    "print(len(Upload_Date))\n",
    "print(Upload_Date)"
   ]
  },
  {
   "cell_type": "code",
   "execution_count": 42,
   "id": "a3155596",
   "metadata": {},
   "outputs": [
    {
     "data": {
      "text/plain": [
       "<bound method WebDriver.close of <selenium.webdriver.chrome.webdriver.WebDriver (session=\"eb3e04dd6e7652f0b0ad784d2346eb30\")>>"
      ]
     },
     "execution_count": 42,
     "metadata": {},
     "output_type": "execute_result"
    }
   ],
   "source": [
    "driver.close"
   ]
  },
  {
   "cell_type": "markdown",
   "id": "dd658081",
   "metadata": {},
   "source": [
    "# ans8"
   ]
  },
  {
   "cell_type": "code",
   "execution_count": 2,
   "id": "68a3be89",
   "metadata": {},
   "outputs": [],
   "source": [
    "url1='https://archive.ics.uci.edu/'"
   ]
  },
  {
   "cell_type": "code",
   "execution_count": 3,
   "id": "3d347f31",
   "metadata": {},
   "outputs": [],
   "source": [
    "driver=webdriver.Chrome()\n",
    "driver.get(url1)"
   ]
  },
  {
   "cell_type": "code",
   "execution_count": 4,
   "id": "1e29f318",
   "metadata": {},
   "outputs": [],
   "source": [
    "allsets=driver.find_element(By.XPATH,'/html/body/div/div[1]/div[1]/main/div/div[1]/div/div/div/a[1]')\n",
    "allsets.click()"
   ]
  },
  {
   "cell_type": "code",
   "execution_count": 6,
   "id": "43c83f88",
   "metadata": {},
   "outputs": [],
   "source": [
    "Dataset_name=[]\n",
    "Data_type=[]\n",
    "Task=[]\n",
    "Attribute_type=[]\n",
    "No_of_instances=[]\n",
    "No_of_attribute=[]\n",
    "Year=[]"
   ]
  },
  {
   "cell_type": "code",
   "execution_count": 7,
   "id": "c891e0ed",
   "metadata": {},
   "outputs": [],
   "source": [
    "start=0\n",
    "end=10\n",
    "for page in range(start,end):\n",
    "    names_=driver.find_elements(By.XPATH,'//div[@class=\"relative col-span-8 sm:col-span-7\"]/h2/a')\n",
    "    for i in names_:\n",
    "        Dataset_name.append(i.text)\n",
    "    next_button=driver.find_element(By.XPATH,'/html/body/div/div[1]/div[1]/main/div/div[2]/div[3]/div/button[2]')\n",
    "    next_button.click()\n",
    "    time.sleep(3)\n",
    "    "
   ]
  },
  {
   "cell_type": "code",
   "execution_count": 8,
   "id": "85ad6a53",
   "metadata": {},
   "outputs": [
    {
     "name": "stdout",
     "output_type": "stream",
     "text": [
      "['Iris', 'Dry Bean Dataset', 'Rice (Cammeo and Osmancik)', 'Heart Disease', 'Adult', 'Wine', 'Breast Cancer Wisconsin (Diagnostic)', 'Diabetes', 'Wine Quality', 'Car Evaluation', 'Bank Marketing', 'Mushroom', 'Abalone', 'Census Income', 'Student Performance', 'Statlog (German Credit Data)', 'Automobile', 'Breast Cancer', 'Online Retail', 'Auto MPG', 'Breast Cancer Wisconsin (Original)', 'Spambase', \"Predict students' dropout and academic success\", 'Glass Identification', 'Thyroid Disease', 'Credit Approval', 'Air Quality', 'Optical Recognition of Handwritten Digits', 'Zoo', 'Online Retail II', 'default of credit card clients', 'Human Activity Recognition Using Smartphones', 'Bike Sharing Dataset', 'Lung Cancer', 'Liver Disorders', 'Covertype', 'SMS Spam Collection', 'Letter Recognition', 'Ionosphere', 'Individual household electric power consumption', 'Online Shoppers Purchasing Intention Dataset', 'Internet Advertisements', 'Hepatitis', 'MAGIC Gamma Telescope', 'Computer Hardware', 'Forest Fires', 'Estimation of obesity levels based on eating habits and physical condition', 'Congressional Voting Records', 'Heart failure clinical records', 'Yeast', 'Connectionist Bench (Sonar, Mines vs. Rocks)', 'Image Segmentation', 'Diabetes 130-US hospitals for years 1999-2008', 'Tic-Tac-Toe Endgame', 'Pen-Based Recognition of Handwritten Digits', 'seeds', 'Nursery', 'Arrhythmia', 'Statlog (Australian Credit Approval)', 'Real estate valuation data set', 'Breast Cancer Wisconsin (Prognostic)', 'Balance Scale', 'Energy efficiency', 'EEG Database', 'Soybean (Large)', 'Seoul Bike Sharing Demand', 'Statlog (Heart)', 'CDC Diabetes Health Indicators', 'Wholesale customers', 'Reuters-21578 Text Categorization Collection', 'Dermatology', 'Apartment for rent classified', 'Concrete Compressive Strength', 'Parkinsons', 'Statlog (Landsat Satellite)', 'AI4I 2020 Predictive Maintenance Dataset', 'Ecoli', 'Solar Flare', 'Statlog (Shuttle)', 'Movie', 'Statlog (Vehicle Silhouettes)', 'Insurance Company Benchmark (COIL 2000)', 'Online News Popularity', 'ISOLET', 'Contraceptive Method Choice', 'Soybean (Small)', 'Molecular Biology (Promoter Gene Sequences)', 'Protein Data', 'ElectricityLoadDiagrams20112014', 'Statlog Project', 'Waveform Database Generator (Version 1)', 'banknote authentication', 'Lenses', 'Chronic_Kidney_Disease', 'Flags', 'Horse Colic', 'CMU Face Images', 'KDD Cup 1999 Data', 'Early stage diabetes risk prediction dataset.', 'Anonymous Microsoft Web Data']\n"
     ]
    }
   ],
   "source": [
    "print(Dataset_name)"
   ]
  },
  {
   "cell_type": "code",
   "execution_count": 28,
   "id": "5615e8cc",
   "metadata": {},
   "outputs": [],
   "source": [
    "start=0\n",
    "end=10\n",
    "for page in range(start,end):\n",
    "    ts6=driver.find_elements(By.XPATH,'//div[@class=\"my-2 hidden gap-4 md:grid grid-cols-12\"]/div[1]')\n",
    "    for i in ts6:\n",
    "        Task.append(i.text)\n",
    "    next_button=driver.find_element(By.XPATH,'/html/body/div/div[1]/div[1]/main/div/div[2]/div[3]/div/button[2]')\n",
    "    next_button.click()\n",
    "    time.sleep(3)"
   ]
  },
  {
   "cell_type": "code",
   "execution_count": 27,
   "id": "347fc420",
   "metadata": {},
   "outputs": [],
   "source": [
    "Task.clear()"
   ]
  },
  {
   "cell_type": "code",
   "execution_count": 17,
   "id": "57bce2fe",
   "metadata": {},
   "outputs": [],
   "source": [
    "start=0\n",
    "end=10\n",
    "for page in range(start,end):\n",
    "    ts1=driver.find_elements(By.XPATH,'//div[@class=\"my-2 hidden gap-4 md:grid grid-cols-12\"]/div[2]')\n",
    "    for i in ts1:\n",
    "        Data_type.append(i.text)\n",
    "    next_button=driver.find_element(By.XPATH,'/html/body/div/div[1]/div[1]/main/div/div[2]/div[3]/div/button[2]')\n",
    "    next_button.click()\n",
    "    time.sleep(3)"
   ]
  },
  {
   "cell_type": "code",
   "execution_count": 47,
   "id": "346a8c8c",
   "metadata": {},
   "outputs": [
    {
     "name": "stdout",
     "output_type": "stream",
     "text": [
      "['Tabular', 'Multivariate', 'Multivariate', 'Multivariate', 'Multivariate', 'Tabular', 'Multivariate', 'Multivariate, Time-Series', 'Multivariate', 'Multivariate', 'Multivariate', 'Multivariate', 'Tabular', 'Multivariate', 'Multivariate', 'Multivariate', 'Multivariate', 'Multivariate', 'Multivariate, Sequential, Time-Series', 'Multivariate', 'Multivariate', 'Multivariate', 'Tabular', 'Multivariate', 'Multivariate, Domain-Theory', 'Multivariate', 'Multivariate, Time-Series', 'Multivariate', 'Multivariate', 'Multivariate, Sequential, Time-Series, Text', 'Multivariate', 'Multivariate, Time-Series', 'Multivariate', 'Multivariate', 'Multivariate', 'Multivariate', 'Multivariate, Text, Domain-Theory', 'Multivariate', 'Multivariate', 'Multivariate, Time-Series', 'Multivariate', 'Multivariate', 'Multivariate', 'Multivariate', 'Multivariate', 'Multivariate', 'Multivariate', 'Multivariate', 'Multivariate', 'Multivariate', 'Multivariate', 'Multivariate', 'Multivariate', 'Multivariate', 'Multivariate', 'Multivariate', 'Multivariate', 'Multivariate', 'Multivariate', 'Multivariate', 'Multivariate', 'Multivariate', 'Multivariate', 'Multivariate, Time-Series', 'Multivariate', 'Multivariate', 'Multivariate', 'Tabular, Multivariate', 'Multivariate', 'Text', 'Multivariate', 'Multivariate', 'Multivariate', 'Multivariate', 'Multivariate', 'Multivariate, Time-Series', 'Multivariate', 'Multivariate', 'Multivariate', '', 'Multivariate', 'Multivariate', 'Multivariate', 'Multivariate', 'Multivariate', 'Multivariate', 'Sequential, Domain-Theory', '', 'Time-Series', 'Other', 'Multivariate, Data-Generator', 'Multivariate', 'Multivariate', 'Multivariate', 'Multivariate', 'Multivariate', 'Image', 'Multivariate', 'Multivariate', 'null']\n"
     ]
    }
   ],
   "source": [
    "len(Data_type)\n",
    "print(Data_type)"
   ]
  },
  {
   "cell_type": "code",
   "execution_count": 21,
   "id": "c1a9361a",
   "metadata": {},
   "outputs": [],
   "source": [
    "start=0\n",
    "end=10\n",
    "for page in range(start,end):\n",
    "    ts2=driver.find_elements(By.XPATH,'//div[@class=\"my-2 hidden gap-4 md:grid grid-cols-12\"]/div[3]')\n",
    "    for i in ts2:\n",
    "        No_of_instances.append(i.text)\n",
    "    next_button=driver.find_element(By.XPATH,'/html/body/div/div[1]/div[1]/main/div/div[2]/div[3]/div/button[2]')\n",
    "    next_button.click()\n",
    "    time.sleep(3)"
   ]
  },
  {
   "cell_type": "code",
   "execution_count": 22,
   "id": "dead00e0",
   "metadata": {},
   "outputs": [
    {
     "data": {
      "text/plain": [
       "100"
      ]
     },
     "execution_count": 22,
     "metadata": {},
     "output_type": "execute_result"
    }
   ],
   "source": [
    "len(No_of_instances)"
   ]
  },
  {
   "cell_type": "code",
   "execution_count": 23,
   "id": "c8bfad9e",
   "metadata": {
    "scrolled": true
   },
   "outputs": [
    {
     "name": "stdout",
     "output_type": "stream",
     "text": [
      "['2.46K Instances', '432 Instances', '306 Instances', '19.74K Instances', '3.19K Instances', '1.2K Instances', '215.06K Instances', '1.52M Instances', '476 Instances', '132 Instances', '9.57K Instances', '705 Instances', '2.1K Instances', '16 Instances', '299.29K Instances', '839 Instances', '167 Instances', '339 Instances', '267 Instances', '1.99K Instances', '2.46M Instances', '2K Instances', '3.2K Instances', '1.02K Instances', '338 Instances', '3K Instances', '50K Instances', '100 Instances', '798 Instances', '740 Instances', '11M Instances', '1.89K Instances', '67.56K Instances', '63M Instances', '148 Instances', '125 Instances', '145 Instances', '23 Instances', '5.88K Instances', '28.06K Instances', '11M Instances', '1.89K Instances', '67.56K Instances', '63M Instances', '148 Instances', '125 Instances', '145 Instances', '23 Instances', '5.88K Instances', '28.06K Instances', '6.65K Instances', '5.47K Instances', '750 Instances', '20K Instances', '10.5K Instances', '2.26M Instances', '5K Instances', '226 Instances', '6.82K Instances', '980 Instances', '858 Instances', '', '160 Instances', '420.77K Instances', '6.29K Instances', '583 Instances', '', '100 Instances', '68.04K Instances', '14.22K Instances', '811 Instances', '14.06M Instances', '178.08K Instances', '90 Instances', '6.6K Instances', '48.2K Instances', '50.67K Instances', '128 Instances', '', '2.13K Instances', '267 Instances', '2.31K Instances', '116 Instances', '1K Instances', '11.5K Instances', '6.46M Instances', '2.1K Instances', '748 Instances', '191.78K Instances', '43.82K Instances', '181.8K Instances', '120 Instances', '10 Instances', '15 Instances', '500 Instances', '2.14K Instances', '528 Instances', '244 Instances', '2.57K Instances', '108 Instances']\n"
     ]
    }
   ],
   "source": [
    "print(No_of_instances)"
   ]
  },
  {
   "cell_type": "code",
   "execution_count": 24,
   "id": "f5e7cafb",
   "metadata": {},
   "outputs": [],
   "source": [
    "start=0\n",
    "end=10\n",
    "for page in range(start,end):\n",
    "    ts3=driver.find_elements(By.XPATH,'//div[@class=\"my-2 hidden gap-4 md:grid grid-cols-12\"]/div[4]')\n",
    "    for i in ts3:\n",
    "        No_of_attribute.append(i.text)\n",
    "    next_button=driver.find_element(By.XPATH,'/html/body/div/div[1]/div[1]/main/div/div[2]/div[3]/div/button[2]')\n",
    "    next_button.click()\n",
    "    time.sleep(3)"
   ]
  },
  {
   "cell_type": "code",
   "execution_count": 25,
   "id": "b96e2fa4",
   "metadata": {},
   "outputs": [
    {
     "name": "stdout",
     "output_type": "stream",
     "text": [
      "['13 Features', '5.63K Features', '10 Features', '115 Features', '52 Features', '60.66K Features', '237 Features', '', '23 Features', '13 Features', '6 Features', '4 Features', '', '', '754 Features', '', '5 Features', '12 Features', '7 Features', '11 Features', '21 Features', '3 Features', '42 Features', '', '16 Features', '', '90 Features', '8 Features', '17 Features', '', '81 Features', '12 Features', '14 Features', '42 Features', '', '28 Features', '148 Features', '', '', '61 Features', '22 Features', '591 Features', '14 Features', '20.53K Features', '11 Features', '7 Features', '', '', '43.68K Features', '21 Features', '', '70 Features', '16 Features', '100K Features', '', '518 Features', '129 Features', '', '86 Features', '4 Features', '25 Features', '16 Features', '10 Features', '280 Features', '20K Features', '20 Features', '1.2K Features', '5 Features', '28 Features', '9 Features', '105 Features', '7 Features', '19 Features', '36 Features', '', '', '18 Features', '242 Features', '82 Features', '7 Features', '147 Features', '6 Features', '', '5 Features', '54 Features', '116 Features', '7 Features', '8 Features', '10K Features', '', '', '5 Features', '8 Features', '11 Features', '19 Features', '', '10 Features', '36 Features', '', '20 Features']\n",
      "100\n"
     ]
    }
   ],
   "source": [
    "print(No_of_attribute)\n",
    "print(len(No_of_attribute))"
   ]
  },
  {
   "cell_type": "code",
   "execution_count": 33,
   "id": "4ff3b20b",
   "metadata": {},
   "outputs": [
    {
     "data": {
      "text/plain": [
       "100"
      ]
     },
     "execution_count": 33,
     "metadata": {},
     "output_type": "execute_result"
    }
   ],
   "source": [
    "len(Data_type)"
   ]
  },
  {
   "cell_type": "code",
   "execution_count": 36,
   "id": "550e690b",
   "metadata": {},
   "outputs": [
    {
     "data": {
      "text/html": [
       "<div>\n",
       "<style scoped>\n",
       "    .dataframe tbody tr th:only-of-type {\n",
       "        vertical-align: middle;\n",
       "    }\n",
       "\n",
       "    .dataframe tbody tr th {\n",
       "        vertical-align: top;\n",
       "    }\n",
       "\n",
       "    .dataframe thead th {\n",
       "        text-align: right;\n",
       "    }\n",
       "</style>\n",
       "<table border=\"1\" class=\"dataframe\">\n",
       "  <thead>\n",
       "    <tr style=\"text-align: right;\">\n",
       "      <th></th>\n",
       "      <th>Dataset_name</th>\n",
       "      <th>Data_type</th>\n",
       "      <th>task</th>\n",
       "      <th>No_of_instances</th>\n",
       "      <th>No_of_attribute</th>\n",
       "    </tr>\n",
       "  </thead>\n",
       "  <tbody>\n",
       "    <tr>\n",
       "      <th>0</th>\n",
       "      <td>Iris</td>\n",
       "      <td>Tabular</td>\n",
       "      <td>Regression</td>\n",
       "      <td>2.46K Instances</td>\n",
       "      <td>13 Features</td>\n",
       "    </tr>\n",
       "    <tr>\n",
       "      <th>1</th>\n",
       "      <td>Dry Bean Dataset</td>\n",
       "      <td>Multivariate</td>\n",
       "      <td>Regression</td>\n",
       "      <td>432 Instances</td>\n",
       "      <td>5.63K Features</td>\n",
       "    </tr>\n",
       "    <tr>\n",
       "      <th>2</th>\n",
       "      <td>Rice (Cammeo and Osmancik)</td>\n",
       "      <td>Multivariate</td>\n",
       "      <td>Classification</td>\n",
       "      <td>306 Instances</td>\n",
       "      <td>10 Features</td>\n",
       "    </tr>\n",
       "    <tr>\n",
       "      <th>3</th>\n",
       "      <td>Heart Disease</td>\n",
       "      <td>Multivariate</td>\n",
       "      <td>Classification</td>\n",
       "      <td>19.74K Instances</td>\n",
       "      <td>115 Features</td>\n",
       "    </tr>\n",
       "    <tr>\n",
       "      <th>4</th>\n",
       "      <td>Adult</td>\n",
       "      <td>Multivariate</td>\n",
       "      <td>Classification, Regression, Clustering</td>\n",
       "      <td>3.19K Instances</td>\n",
       "      <td>52 Features</td>\n",
       "    </tr>\n",
       "    <tr>\n",
       "      <th>...</th>\n",
       "      <td>...</td>\n",
       "      <td>...</td>\n",
       "      <td>...</td>\n",
       "      <td>...</td>\n",
       "      <td>...</td>\n",
       "    </tr>\n",
       "    <tr>\n",
       "      <th>95</th>\n",
       "      <td>Horse Colic</td>\n",
       "      <td>Multivariate</td>\n",
       "      <td>Classification, Clustering</td>\n",
       "      <td>2.14K Instances</td>\n",
       "      <td></td>\n",
       "    </tr>\n",
       "    <tr>\n",
       "      <th>96</th>\n",
       "      <td>CMU Face Images</td>\n",
       "      <td>Image</td>\n",
       "      <td>Clustering</td>\n",
       "      <td>528 Instances</td>\n",
       "      <td>10 Features</td>\n",
       "    </tr>\n",
       "    <tr>\n",
       "      <th>97</th>\n",
       "      <td>KDD Cup 1999 Data</td>\n",
       "      <td>Multivariate</td>\n",
       "      <td>Regression, Clustering</td>\n",
       "      <td>244 Instances</td>\n",
       "      <td>36 Features</td>\n",
       "    </tr>\n",
       "    <tr>\n",
       "      <th>98</th>\n",
       "      <td>Early stage diabetes risk prediction dataset.</td>\n",
       "      <td>Multivariate</td>\n",
       "      <td>Classification, Clustering</td>\n",
       "      <td>2.57K Instances</td>\n",
       "      <td></td>\n",
       "    </tr>\n",
       "    <tr>\n",
       "      <th>99</th>\n",
       "      <td>Anonymous Microsoft Web Data</td>\n",
       "      <td>null</td>\n",
       "      <td>Classification, Regression, Clustering, Other</td>\n",
       "      <td>108 Instances</td>\n",
       "      <td>20 Features</td>\n",
       "    </tr>\n",
       "  </tbody>\n",
       "</table>\n",
       "<p>100 rows × 5 columns</p>\n",
       "</div>"
      ],
      "text/plain": [
       "                                     Dataset_name     Data_type  \\\n",
       "0                                            Iris       Tabular   \n",
       "1                                Dry Bean Dataset  Multivariate   \n",
       "2                      Rice (Cammeo and Osmancik)  Multivariate   \n",
       "3                                   Heart Disease  Multivariate   \n",
       "4                                           Adult  Multivariate   \n",
       "..                                            ...           ...   \n",
       "95                                    Horse Colic  Multivariate   \n",
       "96                                CMU Face Images         Image   \n",
       "97                              KDD Cup 1999 Data  Multivariate   \n",
       "98  Early stage diabetes risk prediction dataset.  Multivariate   \n",
       "99                   Anonymous Microsoft Web Data          null   \n",
       "\n",
       "                                             task   No_of_instances  \\\n",
       "0                                      Regression   2.46K Instances   \n",
       "1                                      Regression     432 Instances   \n",
       "2                                  Classification     306 Instances   \n",
       "3                                  Classification  19.74K Instances   \n",
       "4          Classification, Regression, Clustering   3.19K Instances   \n",
       "..                                            ...               ...   \n",
       "95                     Classification, Clustering   2.14K Instances   \n",
       "96                                     Clustering     528 Instances   \n",
       "97                         Regression, Clustering     244 Instances   \n",
       "98                     Classification, Clustering   2.57K Instances   \n",
       "99  Classification, Regression, Clustering, Other     108 Instances   \n",
       "\n",
       "   No_of_attribute  \n",
       "0      13 Features  \n",
       "1   5.63K Features  \n",
       "2      10 Features  \n",
       "3     115 Features  \n",
       "4      52 Features  \n",
       "..             ...  \n",
       "95                  \n",
       "96     10 Features  \n",
       "97     36 Features  \n",
       "98                  \n",
       "99     20 Features  \n",
       "\n",
       "[100 rows x 5 columns]"
      ]
     },
     "execution_count": 36,
     "metadata": {},
     "output_type": "execute_result"
    }
   ],
   "source": [
    "ml_dataset=pd.DataFrame({'Dataset_name':Dataset_name,'Data_type':Data_type,\n",
    "                        'task':Task,'No_of_instances':No_of_instances,'No_of_attribute':No_of_attribute})\n",
    "ml_dataset"
   ]
  },
  {
   "cell_type": "code",
   "execution_count": null,
   "id": "d70bd19a",
   "metadata": {},
   "outputs": [],
   "source": []
  }
 ],
 "metadata": {
  "kernelspec": {
   "display_name": "Python 3 (ipykernel)",
   "language": "python",
   "name": "python3"
  },
  "language_info": {
   "codemirror_mode": {
    "name": "ipython",
    "version": 3
   },
   "file_extension": ".py",
   "mimetype": "text/x-python",
   "name": "python",
   "nbconvert_exporter": "python",
   "pygments_lexer": "ipython3",
   "version": "3.10.9"
  }
 },
 "nbformat": 4,
 "nbformat_minor": 5
}
